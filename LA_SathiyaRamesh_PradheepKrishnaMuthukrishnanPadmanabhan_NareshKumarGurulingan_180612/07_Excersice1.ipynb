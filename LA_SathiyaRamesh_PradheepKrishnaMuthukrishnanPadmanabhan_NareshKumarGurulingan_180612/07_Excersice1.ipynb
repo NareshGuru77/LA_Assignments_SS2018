{
 "cells": [
  {
   "cell_type": "code",
   "execution_count": null,
   "metadata": {
    "colab": {
     "autoexec": {
      "startup": false,
      "wait_interval": 0
     }
    },
    "colab_type": "code",
    "id": "ApDi__LX7D0C"
   },
   "outputs": [],
   "source": [
    "from sklearn.datasets import fetch_mldata\n",
    "from sklearn import tree\n",
    "from sklearn.datasets import load_sample_image\n",
    "import random as rand\n",
    "import matplotlib.pyplot as plt\n",
    "import numpy as np\n",
    "from sklearn.model_selection import train_test_split\n",
    "from sklearn.ensemble import BaggingClassifier\n",
    "from sklearn.ensemble import BaggingRegressor\n",
    "from sklearn.metrics import accuracy_score\n",
    "from sklearn.svm import SVC\n",
    "from sklearn.ensemble import RandomForestClassifier\n",
    "from sklearn.linear_model import LinearRegression\n",
    "import matplotlib.pyplot as plt\n",
    "import sys\n",
    "import pickle\n",
    "import matplotlib.pyplot as plt\n",
    "from PIL import Image \n",
    "from pylab import *"
   ]
  },
  {
   "cell_type": "code",
   "execution_count": 14,
   "metadata": {},
   "outputs": [],
   "source": [
    "from sklearn.datasets import fetch_mldata\n",
    "from sklearn.model_selection import train_test_split\n",
    "from sklearn.ensemble import RandomForestClassifier\n",
    "from sklearn.metrics import accuracy_score\n",
    "import pickle\n",
    "import numpy as np\n",
    "import matplotlib.pyplot as plt"
   ]
  },
  {
   "cell_type": "markdown",
   "metadata": {
    "colab_type": "text",
    "id": "oIbBQ-qD31xn"
   },
   "source": [
    "### 1.- Get the MNIST dataset, select one kind of model and train multiple instances of the same model in this dataset (say, from 1 to 100)."
   ]
  },
  {
   "cell_type": "markdown",
   "metadata": {},
   "source": [
    "1. We are fetching the MNIST dataset using the \"fetch_mldata\" sklearn API. \n",
    "2. The dataset is split into training and test sets using \"train_test_split\" from sklearn.\n",
    "3. Our selected model is a DecisionTree.\n",
    "4. We are directly training ensembles of DecisionTrees using \"RandomForestClassifier\" from sklearn."
   ]
  },
  {
   "cell_type": "code",
   "execution_count": 8,
   "metadata": {
    "colab": {
     "autoexec": {
      "startup": false,
      "wait_interval": 0
     }
    },
    "colab_type": "code",
    "id": "4JhilI0w35_P"
   },
   "outputs": [],
   "source": [
    "mnist = fetch_mldata('MNIST original')\n",
    "x_train, x_test, y_train, y_test = train_test_split(mnist.data, \n",
    "                                                    mnist.target, \n",
    "                                                    test_size=0.4, \n",
    "                                                    random_state=0)"
   ]
  },
  {
   "cell_type": "markdown",
   "metadata": {
    "colab_type": "text",
    "id": "7htBkm23ceaO"
   },
   "source": [
    "### 2.- With the trained models, make ensembles of [2, 3, ..., 100] members, evaluate the testing accuracy of each ensemble, and estimate the uncertainty of their outputs using a histogram or average of softmax outputs (depending on the model)."
   ]
  },
  {
   "cell_type": "markdown",
   "metadata": {},
   "source": [
    "**Training of RandomForestClassifier with number of ensembles from 2 to 100:**"
   ]
  },
  {
   "cell_type": "code",
   "execution_count": 12,
   "metadata": {
    "colab": {
     "autoexec": {
      "startup": false,
      "wait_interval": 0
     },
     "base_uri": "https://localhost:8080/",
     "height": 130
    },
    "colab_type": "code",
    "executionInfo": {
     "elapsed": 85167,
     "status": "ok",
     "timestamp": 1528882527971,
     "user": {
      "displayName": "Pradheep krishna",
      "photoUrl": "//lh5.googleusercontent.com/-M377mmBxoNs/AAAAAAAAAAI/AAAAAAAAALw/wYOSE7fajrY/s50-c-k-no/photo.jpg",
      "userId": "110109036196497630582"
     },
     "user_tz": -120
    },
    "id": "fsadQawAcysl",
    "outputId": "b0c060db-fa5c-448a-dcbb-f439cde5432d"
   },
   "outputs": [
    {
     "name": "stdout",
     "output_type": "stream",
     "text": [
      "-------------------------------------------------------------------------------------------\n",
      "\n",
      "Number of decision trees in the random forest ensemble =  2\n",
      "Corresponding accuracy on the test set =  0.8064285714285714\n",
      "-------------------------------------------------------------------------------------------\n",
      "\n",
      "Number of decision trees in the random forest ensemble =  3\n",
      "Corresponding accuracy on the test set =  0.8699285714285714\n",
      "-------------------------------------------------------------------------------------------\n",
      "\n",
      "Number of decision trees in the random forest ensemble =  4\n",
      "Corresponding accuracy on the test set =  0.8975\n",
      "-------------------------------------------------------------------------------------------\n",
      "\n",
      "Number of decision trees in the random forest ensemble =  5\n",
      "Corresponding accuracy on the test set =  0.9128214285714286\n",
      "-------------------------------------------------------------------------------------------\n",
      "\n",
      "Number of decision trees in the random forest ensemble =  6\n",
      "Corresponding accuracy on the test set =  0.9231428571428572\n",
      "-------------------------------------------------------------------------------------------\n",
      "\n",
      "Number of decision trees in the random forest ensemble =  7\n",
      "Corresponding accuracy on the test set =  0.9296785714285715\n",
      "-------------------------------------------------------------------------------------------\n",
      "\n",
      "Number of decision trees in the random forest ensemble =  8\n",
      "Corresponding accuracy on the test set =  0.9353571428571429\n",
      "-------------------------------------------------------------------------------------------\n",
      "\n",
      "Number of decision trees in the random forest ensemble =  9\n",
      "Corresponding accuracy on the test set =  0.9401785714285714\n",
      "-------------------------------------------------------------------------------------------\n",
      "\n",
      "Number of decision trees in the random forest ensemble =  10\n",
      "Corresponding accuracy on the test set =  0.9428571428571428\n",
      "-------------------------------------------------------------------------------------------\n",
      "\n",
      "Number of decision trees in the random forest ensemble =  11\n",
      "Corresponding accuracy on the test set =  0.9461071428571428\n",
      "-------------------------------------------------------------------------------------------\n",
      "\n",
      "Number of decision trees in the random forest ensemble =  12\n",
      "Corresponding accuracy on the test set =  0.9465\n",
      "-------------------------------------------------------------------------------------------\n",
      "\n",
      "Number of decision trees in the random forest ensemble =  13\n",
      "Corresponding accuracy on the test set =  0.951\n",
      "-------------------------------------------------------------------------------------------\n",
      "\n",
      "Number of decision trees in the random forest ensemble =  14\n",
      "Corresponding accuracy on the test set =  0.9493571428571429\n",
      "-------------------------------------------------------------------------------------------\n",
      "\n",
      "Number of decision trees in the random forest ensemble =  15\n",
      "Corresponding accuracy on the test set =  0.9499642857142857\n",
      "-------------------------------------------------------------------------------------------\n",
      "\n",
      "Number of decision trees in the random forest ensemble =  16\n",
      "Corresponding accuracy on the test set =  0.95225\n",
      "-------------------------------------------------------------------------------------------\n",
      "\n",
      "Number of decision trees in the random forest ensemble =  17\n",
      "Corresponding accuracy on the test set =  0.9520714285714286\n",
      "-------------------------------------------------------------------------------------------\n",
      "\n",
      "Number of decision trees in the random forest ensemble =  18\n",
      "Corresponding accuracy on the test set =  0.956\n",
      "-------------------------------------------------------------------------------------------\n",
      "\n",
      "Number of decision trees in the random forest ensemble =  19\n",
      "Corresponding accuracy on the test set =  0.9561428571428572\n",
      "-------------------------------------------------------------------------------------------\n",
      "\n",
      "Number of decision trees in the random forest ensemble =  20\n",
      "Corresponding accuracy on the test set =  0.9568214285714286\n",
      "-------------------------------------------------------------------------------------------\n",
      "\n",
      "Number of decision trees in the random forest ensemble =  21\n",
      "Corresponding accuracy on the test set =  0.9564285714285714\n",
      "-------------------------------------------------------------------------------------------\n",
      "\n",
      "Number of decision trees in the random forest ensemble =  22\n",
      "Corresponding accuracy on the test set =  0.9584285714285714\n",
      "-------------------------------------------------------------------------------------------\n",
      "\n",
      "Number of decision trees in the random forest ensemble =  23\n",
      "Corresponding accuracy on the test set =  0.9575\n",
      "-------------------------------------------------------------------------------------------\n",
      "\n",
      "Number of decision trees in the random forest ensemble =  24\n",
      "Corresponding accuracy on the test set =  0.9582857142857143\n",
      "-------------------------------------------------------------------------------------------\n",
      "\n",
      "Number of decision trees in the random forest ensemble =  25\n",
      "Corresponding accuracy on the test set =  0.9573214285714285\n",
      "-------------------------------------------------------------------------------------------\n",
      "\n",
      "Number of decision trees in the random forest ensemble =  26\n",
      "Corresponding accuracy on the test set =  0.9585714285714285\n",
      "-------------------------------------------------------------------------------------------\n",
      "\n",
      "Number of decision trees in the random forest ensemble =  27\n",
      "Corresponding accuracy on the test set =  0.95825\n",
      "-------------------------------------------------------------------------------------------\n",
      "\n",
      "Number of decision trees in the random forest ensemble =  28\n",
      "Corresponding accuracy on the test set =  0.9600714285714286\n",
      "-------------------------------------------------------------------------------------------\n",
      "\n",
      "Number of decision trees in the random forest ensemble =  29\n",
      "Corresponding accuracy on the test set =  0.9608214285714286\n",
      "-------------------------------------------------------------------------------------------\n",
      "\n",
      "Number of decision trees in the random forest ensemble =  30\n",
      "Corresponding accuracy on the test set =  0.9603214285714285\n",
      "-------------------------------------------------------------------------------------------\n",
      "\n",
      "Number of decision trees in the random forest ensemble =  31\n",
      "Corresponding accuracy on the test set =  0.9608214285714286\n",
      "-------------------------------------------------------------------------------------------\n",
      "\n",
      "Number of decision trees in the random forest ensemble =  32\n",
      "Corresponding accuracy on the test set =  0.96225\n",
      "-------------------------------------------------------------------------------------------\n",
      "\n",
      "Number of decision trees in the random forest ensemble =  33\n",
      "Corresponding accuracy on the test set =  0.961\n",
      "-------------------------------------------------------------------------------------------\n",
      "\n",
      "Number of decision trees in the random forest ensemble =  34\n",
      "Corresponding accuracy on the test set =  0.9615357142857143\n",
      "-------------------------------------------------------------------------------------------\n",
      "\n",
      "Number of decision trees in the random forest ensemble =  35\n",
      "Corresponding accuracy on the test set =  0.9606428571428571\n",
      "-------------------------------------------------------------------------------------------\n",
      "\n",
      "Number of decision trees in the random forest ensemble =  36\n",
      "Corresponding accuracy on the test set =  0.9610714285714286\n",
      "-------------------------------------------------------------------------------------------\n",
      "\n",
      "Number of decision trees in the random forest ensemble =  37\n",
      "Corresponding accuracy on the test set =  0.9625357142857143\n",
      "-------------------------------------------------------------------------------------------\n",
      "\n",
      "Number of decision trees in the random forest ensemble =  38\n",
      "Corresponding accuracy on the test set =  0.9613571428571429\n",
      "-------------------------------------------------------------------------------------------\n",
      "\n",
      "Number of decision trees in the random forest ensemble =  39\n",
      "Corresponding accuracy on the test set =  0.962\n",
      "-------------------------------------------------------------------------------------------\n",
      "\n",
      "Number of decision trees in the random forest ensemble =  40\n"
     ]
    },
    {
     "name": "stdout",
     "output_type": "stream",
     "text": [
      "Corresponding accuracy on the test set =  0.9631071428571428\n",
      "-------------------------------------------------------------------------------------------\n",
      "\n",
      "Number of decision trees in the random forest ensemble =  41\n",
      "Corresponding accuracy on the test set =  0.9627142857142857\n",
      "-------------------------------------------------------------------------------------------\n",
      "\n",
      "Number of decision trees in the random forest ensemble =  42\n",
      "Corresponding accuracy on the test set =  0.9630714285714286\n",
      "-------------------------------------------------------------------------------------------\n",
      "\n",
      "Number of decision trees in the random forest ensemble =  43\n",
      "Corresponding accuracy on the test set =  0.9615\n",
      "-------------------------------------------------------------------------------------------\n",
      "\n",
      "Number of decision trees in the random forest ensemble =  44\n",
      "Corresponding accuracy on the test set =  0.9636071428571429\n",
      "-------------------------------------------------------------------------------------------\n",
      "\n",
      "Number of decision trees in the random forest ensemble =  45\n",
      "Corresponding accuracy on the test set =  0.9633928571428572\n",
      "-------------------------------------------------------------------------------------------\n",
      "\n",
      "Number of decision trees in the random forest ensemble =  46\n",
      "Corresponding accuracy on the test set =  0.9627857142857142\n",
      "-------------------------------------------------------------------------------------------\n",
      "\n",
      "Number of decision trees in the random forest ensemble =  47\n",
      "Corresponding accuracy on the test set =  0.9630357142857143\n",
      "-------------------------------------------------------------------------------------------\n",
      "\n",
      "Number of decision trees in the random forest ensemble =  48\n",
      "Corresponding accuracy on the test set =  0.9634642857142857\n",
      "-------------------------------------------------------------------------------------------\n",
      "\n",
      "Number of decision trees in the random forest ensemble =  49\n",
      "Corresponding accuracy on the test set =  0.96325\n",
      "-------------------------------------------------------------------------------------------\n",
      "\n",
      "Number of decision trees in the random forest ensemble =  50\n",
      "Corresponding accuracy on the test set =  0.9644642857142857\n",
      "-------------------------------------------------------------------------------------------\n",
      "\n",
      "Number of decision trees in the random forest ensemble =  51\n",
      "Corresponding accuracy on the test set =  0.9646428571428571\n",
      "-------------------------------------------------------------------------------------------\n",
      "\n",
      "Number of decision trees in the random forest ensemble =  52\n",
      "Corresponding accuracy on the test set =  0.9630357142857143\n",
      "-------------------------------------------------------------------------------------------\n",
      "\n",
      "Number of decision trees in the random forest ensemble =  53\n",
      "Corresponding accuracy on the test set =  0.9648571428571429\n",
      "-------------------------------------------------------------------------------------------\n",
      "\n",
      "Number of decision trees in the random forest ensemble =  54\n",
      "Corresponding accuracy on the test set =  0.9648214285714286\n",
      "-------------------------------------------------------------------------------------------\n",
      "\n",
      "Number of decision trees in the random forest ensemble =  55\n",
      "Corresponding accuracy on the test set =  0.9647142857142857\n",
      "-------------------------------------------------------------------------------------------\n",
      "\n",
      "Number of decision trees in the random forest ensemble =  56\n",
      "Corresponding accuracy on the test set =  0.9641785714285714\n",
      "-------------------------------------------------------------------------------------------\n",
      "\n",
      "Number of decision trees in the random forest ensemble =  57\n",
      "Corresponding accuracy on the test set =  0.9654642857142857\n",
      "-------------------------------------------------------------------------------------------\n",
      "\n",
      "Number of decision trees in the random forest ensemble =  58\n",
      "Corresponding accuracy on the test set =  0.9651071428571428\n",
      "-------------------------------------------------------------------------------------------\n",
      "\n",
      "Number of decision trees in the random forest ensemble =  59\n",
      "Corresponding accuracy on the test set =  0.9653928571428572\n",
      "-------------------------------------------------------------------------------------------\n",
      "\n",
      "Number of decision trees in the random forest ensemble =  60\n",
      "Corresponding accuracy on the test set =  0.9633928571428572\n",
      "-------------------------------------------------------------------------------------------\n",
      "\n",
      "Number of decision trees in the random forest ensemble =  61\n",
      "Corresponding accuracy on the test set =  0.9653928571428572\n",
      "-------------------------------------------------------------------------------------------\n",
      "\n",
      "Number of decision trees in the random forest ensemble =  62\n",
      "Corresponding accuracy on the test set =  0.9648571428571429\n",
      "-------------------------------------------------------------------------------------------\n",
      "\n",
      "Number of decision trees in the random forest ensemble =  63\n",
      "Corresponding accuracy on the test set =  0.9642142857142857\n",
      "-------------------------------------------------------------------------------------------\n",
      "\n",
      "Number of decision trees in the random forest ensemble =  64\n",
      "Corresponding accuracy on the test set =  0.9651071428571428\n",
      "-------------------------------------------------------------------------------------------\n",
      "\n",
      "Number of decision trees in the random forest ensemble =  65\n",
      "Corresponding accuracy on the test set =  0.96475\n",
      "-------------------------------------------------------------------------------------------\n",
      "\n",
      "Number of decision trees in the random forest ensemble =  66\n",
      "Corresponding accuracy on the test set =  0.9646785714285714\n",
      "-------------------------------------------------------------------------------------------\n",
      "\n",
      "Number of decision trees in the random forest ensemble =  67\n",
      "Corresponding accuracy on the test set =  0.96425\n",
      "-------------------------------------------------------------------------------------------\n",
      "\n",
      "Number of decision trees in the random forest ensemble =  68\n",
      "Corresponding accuracy on the test set =  0.9643928571428572\n",
      "-------------------------------------------------------------------------------------------\n",
      "\n",
      "Number of decision trees in the random forest ensemble =  69\n",
      "Corresponding accuracy on the test set =  0.9653571428571428\n",
      "-------------------------------------------------------------------------------------------\n",
      "\n",
      "Number of decision trees in the random forest ensemble =  70\n",
      "Corresponding accuracy on the test set =  0.9651785714285714\n",
      "-------------------------------------------------------------------------------------------\n",
      "\n",
      "Number of decision trees in the random forest ensemble =  71\n",
      "Corresponding accuracy on the test set =  0.9659642857142857\n",
      "-------------------------------------------------------------------------------------------\n",
      "\n",
      "Number of decision trees in the random forest ensemble =  72\n",
      "Corresponding accuracy on the test set =  0.9653571428571428\n",
      "-------------------------------------------------------------------------------------------\n",
      "\n",
      "Number of decision trees in the random forest ensemble =  73\n",
      "Corresponding accuracy on the test set =  0.9649285714285715\n",
      "-------------------------------------------------------------------------------------------\n",
      "\n",
      "Number of decision trees in the random forest ensemble =  74\n",
      "Corresponding accuracy on the test set =  0.9656428571428571\n",
      "-------------------------------------------------------------------------------------------\n",
      "\n",
      "Number of decision trees in the random forest ensemble =  75\n",
      "Corresponding accuracy on the test set =  0.96575\n",
      "-------------------------------------------------------------------------------------------\n",
      "\n",
      "Number of decision trees in the random forest ensemble =  76\n",
      "Corresponding accuracy on the test set =  0.96525\n",
      "-------------------------------------------------------------------------------------------\n",
      "\n",
      "Number of decision trees in the random forest ensemble =  77\n",
      "Corresponding accuracy on the test set =  0.9656428571428571\n",
      "-------------------------------------------------------------------------------------------\n",
      "\n",
      "Number of decision trees in the random forest ensemble =  78\n",
      "Corresponding accuracy on the test set =  0.9664285714285714\n",
      "-------------------------------------------------------------------------------------------\n",
      "\n",
      "Number of decision trees in the random forest ensemble =  79\n"
     ]
    },
    {
     "name": "stdout",
     "output_type": "stream",
     "text": [
      "Corresponding accuracy on the test set =  0.9648928571428571\n",
      "-------------------------------------------------------------------------------------------\n",
      "\n",
      "Number of decision trees in the random forest ensemble =  80\n",
      "Corresponding accuracy on the test set =  0.9649642857142857\n",
      "-------------------------------------------------------------------------------------------\n",
      "\n",
      "Number of decision trees in the random forest ensemble =  81\n",
      "Corresponding accuracy on the test set =  0.9653571428571428\n",
      "-------------------------------------------------------------------------------------------\n",
      "\n",
      "Number of decision trees in the random forest ensemble =  82\n",
      "Corresponding accuracy on the test set =  0.96575\n",
      "-------------------------------------------------------------------------------------------\n",
      "\n",
      "Number of decision trees in the random forest ensemble =  83\n",
      "Corresponding accuracy on the test set =  0.9653571428571428\n",
      "-------------------------------------------------------------------------------------------\n",
      "\n",
      "Number of decision trees in the random forest ensemble =  84\n",
      "Corresponding accuracy on the test set =  0.9651785714285714\n",
      "-------------------------------------------------------------------------------------------\n",
      "\n",
      "Number of decision trees in the random forest ensemble =  85\n",
      "Corresponding accuracy on the test set =  0.96575\n",
      "-------------------------------------------------------------------------------------------\n",
      "\n",
      "Number of decision trees in the random forest ensemble =  86\n",
      "Corresponding accuracy on the test set =  0.9657142857142857\n",
      "-------------------------------------------------------------------------------------------\n",
      "\n",
      "Number of decision trees in the random forest ensemble =  87\n",
      "Corresponding accuracy on the test set =  0.9666428571428571\n",
      "-------------------------------------------------------------------------------------------\n",
      "\n",
      "Number of decision trees in the random forest ensemble =  88\n",
      "Corresponding accuracy on the test set =  0.9654285714285714\n",
      "-------------------------------------------------------------------------------------------\n",
      "\n",
      "Number of decision trees in the random forest ensemble =  89\n",
      "Corresponding accuracy on the test set =  0.96625\n",
      "-------------------------------------------------------------------------------------------\n",
      "\n",
      "Number of decision trees in the random forest ensemble =  90\n",
      "Corresponding accuracy on the test set =  0.9656071428571429\n",
      "-------------------------------------------------------------------------------------------\n",
      "\n",
      "Number of decision trees in the random forest ensemble =  91\n",
      "Corresponding accuracy on the test set =  0.9659642857142857\n",
      "-------------------------------------------------------------------------------------------\n",
      "\n",
      "Number of decision trees in the random forest ensemble =  92\n",
      "Corresponding accuracy on the test set =  0.9663571428571428\n",
      "-------------------------------------------------------------------------------------------\n",
      "\n",
      "Number of decision trees in the random forest ensemble =  93\n",
      "Corresponding accuracy on the test set =  0.9661785714285714\n",
      "-------------------------------------------------------------------------------------------\n",
      "\n",
      "Number of decision trees in the random forest ensemble =  94\n",
      "Corresponding accuracy on the test set =  0.9671785714285714\n",
      "-------------------------------------------------------------------------------------------\n",
      "\n",
      "Number of decision trees in the random forest ensemble =  95\n",
      "Corresponding accuracy on the test set =  0.9662857142857143\n",
      "-------------------------------------------------------------------------------------------\n",
      "\n",
      "Number of decision trees in the random forest ensemble =  96\n",
      "Corresponding accuracy on the test set =  0.9658214285714286\n",
      "-------------------------------------------------------------------------------------------\n",
      "\n",
      "Number of decision trees in the random forest ensemble =  97\n",
      "Corresponding accuracy on the test set =  0.9666071428571429\n",
      "-------------------------------------------------------------------------------------------\n",
      "\n",
      "Number of decision trees in the random forest ensemble =  98\n",
      "Corresponding accuracy on the test set =  0.9659285714285715\n",
      "-------------------------------------------------------------------------------------------\n",
      "\n",
      "Number of decision trees in the random forest ensemble =  99\n",
      "Corresponding accuracy on the test set =  0.9660357142857143\n",
      "-------------------------------------------------------------------------------------------\n",
      "\n",
      "Number of decision trees in the random forest ensemble =  100\n",
      "Corresponding accuracy on the test set =  0.9658571428571429\n"
     ]
    }
   ],
   "source": [
    "accuracy = []\n",
    "num_estimators = np.arange(2, 101, 1)\n",
    "randomForestClfs = []\n",
    "\n",
    "for n_est in num_estimators:\n",
    "    print('-------------------------------------------------------------------------------------------\\n')\n",
    "    print(\"Number of decision trees in the random forest ensemble = \", n_est)\n",
    "    randomForest = RandomForestClassifier(n_estimators = n_est, n_jobs = -1, warm_start = True)\n",
    "    randomForest.fit(x_train, y_train)\n",
    "    predictions = randomForest.predict(x_test)\n",
    "    randomForestClfs.append(randomForest)\n",
    "    acc = accuracy_score(y_test, predictions)\n",
    "    print(\"Corresponding accuracy on the test set = \", acc)\n",
    "    accuracy.append(acc)"
   ]
  },
  {
   "cell_type": "markdown",
   "metadata": {},
   "source": [
    "### Estimation of uncertainty:"
   ]
  },
  {
   "cell_type": "markdown",
   "metadata": {},
   "source": [
    "**First we select an image to analyze the uncertainties produced by different ensembles:**"
   ]
  },
  {
   "cell_type": "code",
   "execution_count": 22,
   "metadata": {},
   "outputs": [
    {
     "data": {
      "image/png": "[encoded data removed]",
      "text/plain": [
       "<matplotlib.figure.Figure at 0x7f2d2543e5c0>"
      ]
     },
     "metadata": {},
     "output_type": "display_data"
    }
   ],
   "source": [
    "selected_img_idx = 200\n",
    "selected_image = x_test[selected_img_idx].reshape(1, -1)\n",
    "plt.imshow(selected_image.reshape(28, 28), cmap=plt.cm.binary)\n",
    "plt.show()"
   ]
  },
  {
   "cell_type": "markdown",
   "metadata": {},
   "source": [
    "**We then fetch the uncertainties produced by each ensemble for the selected image:**"
   ]
  },
  {
   "cell_type": "code",
   "execution_count": 33,
   "metadata": {},
   "outputs": [
    {
     "name": "stdout",
     "output_type": "stream",
     "text": [
      "(99, 10)\n"
     ]
    }
   ],
   "source": [
    "uncertainties = []\n",
    "for clf in randomForestClfs:\n",
    "    uncertainties.append(clf.predict_proba(selected_image).reshape(-1))\n",
    "    \n",
    "print (np.array(uncertainties).shape)"
   ]
  },
  {
   "cell_type": "markdown",
   "metadata": {},
   "source": [
    "**We then plot histograms of uncertainties produced by ensembles whose number of estimators is a multiple of 20**"
   ]
  },
  {
   "cell_type": "code",
   "execution_count": 46,
   "metadata": {},
   "outputs": [
    {
     "data": {
      "image/png": "[encoded data removed]",
      "text/plain": [
       "<matplotlib.figure.Figure at 0x7f2d28a73f98>"
      ]
     },
     "metadata": {},
     "output_type": "display_data"
    }
   ],
   "source": [
    "# 0th index has 2 estimators, 18th index will have 20...\n",
    "clf_indicies = np.arange(18, 99, 20)\n",
    "classes = np.arange(0, 10, 1)\n",
    "figure = plt.figure(figsize=(15, 10))\n",
    "for en_count, index in enumerate(clf_indicies):\n",
    "    figure.add_subplot(3, 2, en_count+1)\n",
    "    plt.bar(classes, uncertainties[index])\n",
    "    plt.xlabel('Classes in MNIST')\n",
    "    plt.ylabel('Prediction uncertainty')\n",
    "    plt.title('Number of estimators: {}'.format(index+2))\n",
    "    plt.tight_layout()\n",
    "    plt.xticks(classes)\n",
    "    \n",
    "plt.show()"
   ]
  },
  {
   "cell_type": "markdown",
   "metadata": {},
   "source": [
    "## 3.- Does accuracy and uncertainty improve by having more members in each ensemble?"
   ]
  },
  {
   "cell_type": "code",
   "execution_count": null,
   "metadata": {},
   "outputs": [],
   "source": [
    "#Uncertainity of a image found using each and every ensembles directly used from the list which was appended above\n",
    "for i in range(0,len(baggingClfs)):\n",
    "    uncer = baggingClfs[i].predict_proba(img)\n",
    "    print(\"Uncertainity = \", uncer)\n",
    "\n",
    "#Here should we have an Histogram?\n",
    "#Accuracy is also needs to be found\n",
    "#This cell is for both 2 and 3 question"
   ]
  },
  {
   "cell_type": "code",
   "execution_count": null,
   "metadata": {},
   "outputs": [],
   "source": [
    "plt.plot(np.arange(1,100),accuracy)\n",
    "plt.xlabel('Number of runs')\n",
    "plt.ylabel('Accuracy')\n",
    "plt.legend()\n",
    "plt.show()"
   ]
  },
  {
   "cell_type": "markdown",
   "metadata": {
    "colab_type": "text",
    "id": "8ZywLhrr4s3W"
   },
   "source": [
    "## 4.- Using a single ensemble of your choosing (you define the number of members), find the misclassified examples in the test set and analyze the uncertainty of those examples. Can the uncertainty explain why those examples are misclassified? Give examples and a complete analysis. "
   ]
  },
  {
   "cell_type": "code",
   "execution_count": null,
   "metadata": {
    "colab": {
     "autoexec": {
      "startup": false,
      "wait_interval": 0
     }
    },
    "colab_type": "code",
    "id": "6I53Vm_w4yrP"
   },
   "outputs": [],
   "source": [
    "#Finding here an ensemble with best accuracy for finding the uncertainity of misclassified examples\n",
    "accuracy = np.asarray(accuracy)\n",
    "arg = np.argmax(accuracy, axis=0)\n",
    "#Finding uncertainity for misclassified examples\n",
    "#Ensemble with highest accuracy thats our choice \n",
    "y = []\n",
    "probability = []\n",
    "x = []\n",
    "for j in range(0,len(y_test)):\n",
    "    if(bag_pred[j] != y_test[j]):\n",
    "        probability.append((baggingClfs[arg].predict_proba(x_test[j].reshape(1,-1))))\n",
    "        y.append(y_test[j])\n",
    "        x.append(x_test[j])"
   ]
  },
  {
   "cell_type": "code",
   "execution_count": null,
   "metadata": {},
   "outputs": [],
   "source": [
    "x1 = np.arange(0,10)\n",
    "# x = np.reshape(x,(1,-1))\n",
    "for i in range(0,len(x1)):\n",
    "    prob = np.reshape(probability[i],(10,))\n",
    "    image = np.reshape(x[i],(28,28))\n",
    "    plt.subplot(1,2,1)\n",
    "    plt.xlabel('Actual label = %i' %y[i])\n",
    "    plt.imshow(image)\n",
    "    plt.savefig('analysis1.png')\n",
    "    plt.subplot(1,2,2)\n",
    "    #Image.open(x_test)\n",
    "    print(\"Actual label\", y[i])\n",
    "    print(\"Predicted  uncertainity and the corresponding label that we can see\", probability[i])\n",
    "    #Here we can print an image of the same if required\n",
    "    plt.xlabel('Predicted number')\n",
    "    plt.ylabel('Probability')\n",
    "    fig = plt.bar(x1,prob)\n",
    "    plt.subplots_adjust(left=0.10, right = 3, hspace=0.25,\n",
    "                    wspace=0.35)\n",
    "    plt.savefig('analysis2.png')\n",
    "\n",
    "    plt.show()\n",
    "\n",
    "\n",
    "    print('.....................................')"
   ]
  },
  {
   "cell_type": "markdown",
   "metadata": {
    "colab_type": "text",
    "id": "iUgRN-ES4zwy"
   },
   "source": [
    "In the results we can see the misclassified images being predicted with a level of uncertainity"
   ]
  },
  {
   "cell_type": "markdown",
   "metadata": {
    "colab": {
     "autoexec": {
      "startup": false,
      "wait_interval": 0
     }
    },
    "colab_type": "code",
    "id": "dMX4FDLF43bY"
   },
   "source": [
    "<img src=\"analysis3.png\"> <img src=\"analysis2.png\">"
   ]
  },
  {
   "cell_type": "code",
   "execution_count": null,
   "metadata": {},
   "outputs": [],
   "source": []
  },
  {
   "cell_type": "markdown",
   "metadata": {
    "colab_type": "text",
    "id": "XAiB76-444dM"
   },
   "source": [
    "## 5.- Reproduce Figure one from the \"Simple and Scalable Predictive UncertaintyEstimation using Deep Ensembles\" paper (attached) using a random forest, computing regression uncertainty as the variance of the estimates across trees. The authors mention their metodology in Section 3.2, and one can easily reproduce the training set as its a sample of y = x^3 + noise, where noise is Gaussian with zero mean and 3^2 variance, and x is in the range [-4, 4]. The key idea of those figures is to show that uncertainty grows for values outside of the range [-4, 4], more specifically, in the range [-6, -4] and [4, 6]. To produce the figure, you can plot the mean and make confidence bands with size of square root of variance.Remember that I expect a good report of results, not just concentrating on the code, but also on scientific analysis of your results and explanations."
   ]
  },
  {
   "cell_type": "code",
   "execution_count": 2,
   "metadata": {
    "colab": {
     "autoexec": {
      "startup": false,
      "wait_interval": 0
     }
    },
    "colab_type": "code",
    "id": "akSMEmS548OO"
   },
   "outputs": [],
   "source": [
    "import numpy as np\n",
    "import sklearn \n",
    "import matplotlib.pyplot as plt\n",
    "import seaborn as sns\n",
    "from numpy import random\n",
    "from sklearn.ensemble import RandomForestRegressor\n"
   ]
  },
  {
   "cell_type": "code",
   "execution_count": 3,
   "metadata": {},
   "outputs": [],
   "source": [
    "def artificial_dataset(ranges,size,noise_parameter):\n",
    "    x=random.uniform(ranges[0],ranges[1],size)\n",
    "    y=np.power(x,3)+np.random.normal(noise_parameter[0],noise_parameter[1],size)\n",
    "    return x,y\n"
   ]
  },
  {
   "cell_type": "code",
   "execution_count": 11,
   "metadata": {},
   "outputs": [],
   "source": [
    "#Training and test data generation \n",
    "size_train=10000\n",
    "size_test=300\n",
    "train_ranges=[-4,4]\n",
    "test_ranges=[-6,6]\n",
    "noise_parameter=[0,3**2]\n",
    "x_train,y_train=artificial_dataset(train_ranges,size_train,noise_parameter)\n",
    "x_test,_=artificial_dataset(test_ranges,size_test,noise_parameter)\n",
    "x_test=np.sort(x_test)"
   ]
  },
  {
   "cell_type": "code",
   "execution_count": 12,
   "metadata": {},
   "outputs": [
    {
     "data": {
      "text/plain": [
       "RandomForestRegressor(bootstrap=True, criterion='mse', max_depth=None,\n",
       "           max_features='auto', max_leaf_nodes=None,\n",
       "           min_impurity_decrease=0.0, min_impurity_split=None,\n",
       "           min_samples_leaf=1, min_samples_split=2,\n",
       "           min_weight_fraction_leaf=0.0, n_estimators=100, n_jobs=1,\n",
       "           oob_score=False, random_state=0, verbose=0, warm_start=False)"
      ]
     },
     "execution_count": 12,
     "metadata": {},
     "output_type": "execute_result"
    }
   ],
   "source": [
    "# model training\n",
    "number_ensemble = 100\n",
    "# Fitting the Regression model to the dataset\n",
    "regressor = RandomForestRegressor(n_estimators = number_ensemble, random_state = 0,verbose=0)\n",
    "regressor.fit(x_train.reshape(-1,1),y_train)\n"
   ]
  },
  {
   "cell_type": "code",
   "execution_count": 13,
   "metadata": {},
   "outputs": [],
   "source": [
    "#model testing\n",
    "y_pred = regressor.predict(x_test.reshape(-1,1))\n"
   ]
  },
  {
   "cell_type": "code",
   "execution_count": 14,
   "metadata": {},
   "outputs": [
    {
     "data": {
      "image/png": "[encoded data removed]",
      "text/plain": [
       "<Figure size 432x288 with 1 Axes>"
      ]
     },
     "metadata": {},
     "output_type": "display_data"
    }
   ],
   "source": [
    "#plotting\n",
    "x = np.linspace(-6,6,1000)\n",
    "y = x**3\n",
    "plt.plot(x,y, c = 'r')\n",
    "plt.scatter(x_train,y_train,c = 'b')\n",
    "plt.scatter(x_test,y_pred,c = 'g')\n",
    "plt.legend(['Ground truth','Train data','Test prediction'], loc=0)\n",
    "plt.show()"
   ]
  },
  {
   "cell_type": "code",
   "execution_count": null,
   "metadata": {},
   "outputs": [],
   "source": [
    "sd_list = []\n",
    "mean_list = []\n",
    "for data in x_test:\n",
    "    predictions = []\n",
    "    for tree_idx in range(number_ensemble):\n",
    "        predictions.append(regressor.estimators_[tree_idx].predict(data)[0])\n",
    "    variance = np.var(predictions)\n",
    "    mean_list.append(np.mean(predictions))\n",
    "    sd_list.append(variance**0.5)\n",
    "    \n",
    "mean_list = np.array(mean_list)\n",
    "stds = np.array(sd_list)"
   ]
  },
  {
   "cell_type": "code",
   "execution_count": null,
   "metadata": {},
   "outputs": [],
   "source": [
    "plt.figure()\n",
    "plt.plot(x,y, c = 'r')\n",
    "plt.scatter(x_test,y_pred,c = 'g',s=0.5)\n",
    "plt.fill_between(np.linspace(-6,6,size_test),mean_list-stds, \\\n",
    "                 mean_list+stds, alpha=.5, color = '#595959', label = 'Uncertainty')\n",
    "plt.legend(['Ground truth','Train data'], loc=0)\n",
    "plt.show()"
   ]
  }
 ],
 "metadata": {
  "colab": {
   "collapsed_sections": [],
   "default_view": {},
   "name": "LA_Assignment07.ipynb",
   "provenance": [],
   "version": "0.3.2",
   "views": {}
  },
  "kernelspec": {
   "display_name": "Python 3",
   "language": "python",
   "name": "python3"
  },
  "language_info": {
   "codemirror_mode": {
    "name": "ipython",
    "version": 3
   },
   "file_extension": ".py",
   "mimetype": "text/x-python",
   "name": "python",
   "nbconvert_exporter": "python",
   "pygments_lexer": "ipython3",
   "version": "3.6.4"
  }
 },
 "nbformat": 4,
 "nbformat_minor": 1
}
