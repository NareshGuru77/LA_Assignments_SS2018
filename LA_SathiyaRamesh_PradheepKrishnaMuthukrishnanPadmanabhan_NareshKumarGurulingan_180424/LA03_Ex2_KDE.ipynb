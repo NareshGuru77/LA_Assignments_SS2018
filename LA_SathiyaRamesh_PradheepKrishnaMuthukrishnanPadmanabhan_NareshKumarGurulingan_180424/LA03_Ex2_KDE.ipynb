{
 "cells": [
  {
   "cell_type": "markdown",
   "metadata": {},
   "source": [
    "# Task1 \n",
    "##Compare the outcomes of different implementations of KDEs.\n",
    "\n",
    "There are several options available for computing KDE in Python.\n",
    "- SciPy: gaussian_kde.\n",
    "- Statsmodels: KDEUnivariate and KDEMultivariate.\n",
    "- Scikit-learn: KernelDensity.\n"
   ]
  },
  {
   "cell_type": "markdown",
   "metadata": {},
   "source": [
    "##1). Generate synthethic data and plot them\n",
    "Generate synthetic dataset the distribution of which can be presented as a combination of three Gausian distributions with the following parameters: $\\mu_1$=1, $\\sigma_1$=1 and $\\mu_2$=8, $\\sigma_2$=2 and $\\mu_2$=14, $\\sigma_2$=1.5. Generate 1000 samples from the distribution.\n",
    "<br>\n",
    "Plot the pdf of this distribution and the generated samples.\n",
    "<br>\n",
    "3) Use the generated samples to perform \n",
    "- (i) KDE with Scipy, \n",
    "- (ii) Univariate KDE with Statsmodels, \n",
    "- (iii) Multivariate KDE with Statsmodels as well as \n",
    "- (iv) KDE with Scikit-learn.\n",
    "<br>\n",
    "4) Plot all four distributions on one figure.  "
   ]
  },
  {
   "cell_type": "code",
   "execution_count": null,
   "metadata": {
    "collapsed": true
   },
   "outputs": [],
   "source": []
  }
 ],
 "metadata": {
  "kernelspec": {
   "display_name": "Python 2",
   "language": "python",
   "name": "python2"
  },
  "language_info": {
   "codemirror_mode": {
    "name": "ipython",
    "version": 2
   },
   "file_extension": ".py",
   "mimetype": "text/x-python",
   "name": "python",
   "nbconvert_exporter": "python",
   "pygments_lexer": "ipython2",
   "version": "2.7.12"
  }
 },
 "nbformat": 4,
 "nbformat_minor": 0
}
