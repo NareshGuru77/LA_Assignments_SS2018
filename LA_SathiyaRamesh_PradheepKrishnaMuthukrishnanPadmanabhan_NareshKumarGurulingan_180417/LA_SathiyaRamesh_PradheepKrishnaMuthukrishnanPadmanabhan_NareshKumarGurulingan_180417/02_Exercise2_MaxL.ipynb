{
 "cells": [
  {
   "cell_type": "markdown",
   "metadata": {},
   "source": [
    "## Team members : Sathiya Ramesh, Pradheep Krishna Muthukrishnan Padmanabhan, Naresh Kumar Gurulingan"
   ]
  },
  {
   "cell_type": "markdown",
   "metadata": {},
   "source": [
    "## Task1"
   ]
  },
  {
   "cell_type": "markdown",
   "metadata": {},
   "source": [
    "Implement in Python ( you can use SciPy library) the Maximum Likelihood Estimator to estimate the parameters for example mean and variance of some data.\n",
    "Your steps are:\n",
    "* Create a data set: \n",
    "    - Set x-values for example: *x = np.linspace(0, 100, num=100)*, \n",
    "    - Set observed y-values using a known slope (1.4), intercept (4), and sd (3), for example       *y = 4 + 1.4x + np.random.normal(0, 3, 100)*\n",
    "* Create a likelihood function which arguments is a list of initial parameters\n",
    "* Test this function on various data sets \n",
    "(Hint: you can use minimize from scipy.optimize and scipy.stats to compute the negative log-likelihood)"
   ]
  },
  {
   "cell_type": "code",
   "execution_count": 1,
   "metadata": {},
   "outputs": [],
   "source": [
    "# https://stackoverflow.com/questions/7718034/maximum-likelihood-estimate-pseudocode\n",
    "# http://www.stat.cmu.edu/~cshalizi/mreg/15/lectures/06/lecture-06.pdf\n",
    "import numpy as np\n",
    "from scipy.optimize import minimize\n",
    "import scipy.stats as stats\n",
    "import time"
   ]
  },
  {
   "cell_type": "code",
   "execution_count": 2,
   "metadata": {},
   "outputs": [],
   "source": [
    "class MaximumLikelihoodEstimator:\n",
    "    \n",
    "    def __init__(self, x, y_observed):\n",
    "        self.x = x\n",
    "        self.y_observed = y_observed\n",
    "    \n",
    "    def calc_log_likelihood(self, args):\n",
    "        y_intercept = args[0]\n",
    "        slope = args[1]\n",
    "        sigma = args[2]\n",
    "\n",
    "        y_prediction = y_intercept + slope*x\n",
    "        log_likelihood = -np.sum(stats.norm.logpdf(y, loc=y_prediction, scale=sigma))\n",
    "        return(log_likelihood)\n",
    "    \n",
    "    def predict(self, initial_parameters):\n",
    "        results = minimize(self.calc_log_likelihood, initial_parameters, method='nelder-mead')\n",
    "        return results"
   ]
  },
  {
   "cell_type": "code",
   "execution_count": 3,
   "metadata": {},
   "outputs": [
    {
     "name": "stdout",
     "output_type": "stream",
     "text": [
      "Example y_intercept 4, slope 1.4, sigma 3 appended to dataset generation\n",
      "\n",
      "Average difference between in y_intercepts 0.09161781694874446\n",
      "Average difference between in slopes 0.0015433256685622586\n",
      "Average difference between in sigmas 0.019451842436567807\n"
     ]
    }
   ],
   "source": [
    "#Testing the estimator with 20 dataset\n",
    "x = np.linspace(0, 100, num=100)\n",
    "initial_parameters = [1, 1, 1]\n",
    "y_intercepts = np.arange(1, 21, 1)\n",
    "slopes = np.random.rand(20) * 5\n",
    "sigma = np.random.rand(20)\n",
    "\n",
    "y_intercepts = [4] + list(y_intercepts) # example y_intercept appended to list\n",
    "slopes = [1.4] + list(slopes) # example slopes appended to list\n",
    "sigma = [3] + list(sigma) # example sigma appended to list\n",
    "\n",
    "print('Example y_intercept {}, slope {}, sigma {} appended to dataset generation'\n",
    "      .format(y_intercepts[0], slopes[0], sigma[0]))\n",
    "print()\n",
    "\n",
    "difference = list()\n",
    "for inter, slope, sig in zip(y_intercepts, slopes, sigma):\n",
    "    \n",
    "    y = inter + slope * x + np.random.normal(0, sig, 100)\n",
    "    estimator = MaximumLikelihoodEstimator(x, y)\n",
    "    result = estimator.predict(initial_parameters)\n",
    "    difference.append(np.abs([inter, slope, sig] - result.x))\n",
    "    \n",
    "difference = np.array(difference)\n",
    "# average error callculation for  all dataset\n",
    "print('Average difference between in y_intercepts {}'.format(np.mean(difference[:,0])))\n",
    "print('Average difference between in slopes {}'.format(np.mean(difference[:,1])))\n",
    "print('Average difference between in sigmas {}'.format(np.mean(difference[:,2])))"
   ]
  },
  {
   "cell_type": "code",
   "execution_count": null,
   "metadata": {},
   "outputs": [],
   "source": []
  }
 ],
 "metadata": {
  "kernelspec": {
   "display_name": "Python 3",
   "language": "python",
   "name": "python3"
  },
  "language_info": {
   "codemirror_mode": {
    "name": "ipython",
    "version": 3
   },
   "file_extension": ".py",
   "mimetype": "text/x-python",
   "name": "python",
   "nbconvert_exporter": "python",
   "pygments_lexer": "ipython3",
   "version": "3.6.3"
  }
 },
 "nbformat": 4,
 "nbformat_minor": 1
}
