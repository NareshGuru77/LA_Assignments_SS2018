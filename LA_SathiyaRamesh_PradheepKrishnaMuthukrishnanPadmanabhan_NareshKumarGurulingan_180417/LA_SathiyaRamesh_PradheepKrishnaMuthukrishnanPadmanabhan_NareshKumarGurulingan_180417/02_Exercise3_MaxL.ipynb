{
 "cells": [
  {
   "cell_type": "markdown",
   "metadata": {},
   "source": [
    "### Team members :  Sathiya Ramesh, Pradheep Krishna Muthukrishnan Padmanabhan, Naresh Kumar Gurulingan"
   ]
  },
  {
   "cell_type": "markdown",
   "metadata": {},
   "source": [
    "GIVEN: Samples $0,1,0,0,1,0$ from a binomial distribution which has the form:\n",
    "P(x=0)=(1-$\\mu$), P(x=1)=$\\mu$"
   ]
  },
  {
   "cell_type": "markdown",
   "metadata": {},
   "source": [
    "REQUESTED: What is the maximum likelihood estimate of $\\mu$ \n",
    "Hint: you can use SymPy to compute the derivities symboliclly"
   ]
  },
  {
   "cell_type": "markdown",
   "metadata": {},
   "source": []
  },
  {
   "cell_type": "markdown",
   "metadata": {},
   "source": [
    "Let's say we have $X_1,…,X_n $iid Bernoulli random variable with probability p as it is a binomial distribution\n",
    "\n",
    "The PMF of a Bernoulli random variable X is:\n",
    "\n",
    "\\begin{equation*}\n",
    "p_{X_i}(k) =  p^k (1 - p)^{1-k} ~where~k \\in {0,1}\n",
    "\\end{equation*}\n",
    "\n",
    "The likelihood function for this distribution for n samples assuming all the sample are from same distribution with probability p\n",
    "\n",
    "\\begin{equation*}\n",
    "L(p) = \\prod_{i=1}^{n} p^{x_i}(1 - p)^{x_i}\n",
    "\\end{equation*} \n",
    "\n",
    "Likelihood function in log scale:\n",
    "\n",
    "\\begin{equation*}\n",
    "l(p) =log L(p) =  \\log p \\sum_{n=1}^{n} X_i + \\log(1-p) \\sum_{n=1}^{n} (1-X_i)\n",
    "\\end{equation*} \n",
    "\n",
    "Maximum Likelihood estimator of parameter p can be caluclated by differentiating the above equation wrt p and equating it to zero\n",
    "\n",
    "\\begin{equation*}\n",
    "l'(p) = \\frac{\\sum_{n=1}^{n} X_i}{p} - \\frac{sum_{n=1}^{n} (1-X_i)}{1-p} = 0 \\\\\n",
    "\\frac{\\sum_{n=1}^{n} X_i}{p} = \\frac{sum_{n=1}^{n} (1-X_i)}{1-p}\\\\\n",
    "\\end{equation*}\n",
    "\n",
    "Solving for p\n",
    "\\begin{equation*}\n",
    "p = \\frac{X_i}{n}\n",
    "\\end{equation*} \n",
    "\n",
    "Given the samples $0,1,0,0,1,0$\n",
    "\n",
    "$n = 6$\n",
    "\n",
    "$P(X_i=0)=(1-\\mu)$ \n",
    "\n",
    "$P(X_i=1)=\\mu$<br>\n",
    "The probability p is the summation of all the sample divided by number of samples\n",
    "$p = \\frac{X_i}{n}$\n",
    "$p = \\mu = \\frac{2}{6}$\n",
    "\n",
    "$\\mu= 0.33$\n"
   ]
  },
  {
   "cell_type": "markdown",
   "metadata": {},
   "source": [
    "## Reference:\n",
    "https://stats.stackexchange.com/questions/275380/maximum-likelihood-estimation-for-bernoulli-distribution"
   ]
  },
  {
   "cell_type": "code",
   "execution_count": 3,
   "metadata": {},
   "outputs": [
    {
     "data": {
      "text/plain": [
       "1/3"
      ]
     },
     "execution_count": 3,
     "metadata": {},
     "output_type": "execute_result"
    }
   ],
   "source": [
    "import sympy as sp\n",
    "import numpy as np\n",
    "from sympy.abc import x, z\n",
    "p=sp.symbols('p')\n",
    "y=sp.Function('y')(p)\n",
    "# the likelihood fucntion as a product of Bernoulli variable\n",
    "y=(p**2)*((1-p)**4)\n",
    "# taking log\n",
    "logliklihood = sp.expand_log(sp.log(y))\n",
    "mu_estimate = sp.solve(sp.diff(logliklihood,p),p)[0]\n",
    "\n",
    "# printing the solution found through maximum likelihood\n",
    "mu_estimate"
   ]
  },
  {
   "cell_type": "markdown",
   "metadata": {},
   "source": [
    "##### References \n",
    "https://ocw.mit.edu/courses/mathematics/18-05-introduction-to-probability-and-statistics-spring-2014/readings/MIT18_05S14_Reading10b.pdf"
   ]
  },
  {
   "cell_type": "code",
   "execution_count": null,
   "metadata": {},
   "outputs": [],
   "source": []
  }
 ],
 "metadata": {
  "kernelspec": {
   "display_name": "Python 3",
   "language": "python",
   "name": "python3"
  },
  "language_info": {
   "codemirror_mode": {
    "name": "ipython",
    "version": 3
   },
   "file_extension": ".py",
   "mimetype": "text/x-python",
   "name": "python",
   "nbconvert_exporter": "python",
   "pygments_lexer": "ipython3",
   "version": "3.6.3"
  }
 },
 "nbformat": 4,
 "nbformat_minor": 1
}
