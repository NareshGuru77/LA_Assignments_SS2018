{
 "cells": [
  {
   "cell_type": "markdown",
   "metadata": {},
   "source": [
    "GIVEN: Samples $0,1,0,0,1,0$ from a binomial distribution which has the form:\n",
    "P(x=0)=(1-$\\mu$), P(x=1)=$\\mu$"
   ]
  },
  {
   "cell_type": "markdown",
   "metadata": {},
   "source": [
    "REQUESTED: What is the maximum likelihood estimate of $\\mu$ \n",
    "Hint: you can use SymPy to compute the derivities symboliclly"
   ]
  },
  {
   "cell_type": "code",
   "execution_count": 2,
   "metadata": {},
   "outputs": [
    {
     "name": "stdout",
     "output_type": "stream",
     "text": [
      "-32*p**2*(-p + 1)**3 + 16*p*(-p + 1)**4\n"
     ]
    },
    {
     "data": {
      "text/plain": [
       "[0, 1/3, 1]"
      ]
     },
     "execution_count": 2,
     "metadata": {},
     "output_type": "execute_result"
    }
   ],
   "source": [
    "import sympy as sp\n",
    "p=sp.symbols('p')\n",
    "y=sp.Function('y')(p)\n",
    "y=(2*p**2)*(4*(1-p)**4)\n",
    "a=sp.diff(y,p,1)\n",
    "print(a)\n",
    "sol=sp.solve(a,p)\n",
    "sol"
   ]
  },
  {
   "cell_type": "markdown",
   "metadata": {},
   "source": []
  }
 ],
 "metadata": {
  "kernelspec": {
   "display_name": "Python 2",
   "language": "python",
   "name": "python2"
  },
  "language_info": {
   "codemirror_mode": {
    "name": "ipython",
    "version": 2
   },
   "file_extension": ".py",
   "mimetype": "text/x-python",
   "name": "python",
   "nbconvert_exporter": "python",
   "pygments_lexer": "ipython2",
   "version": "2.7.14"
  }
 },
 "nbformat": 4,
 "nbformat_minor": 1
}
