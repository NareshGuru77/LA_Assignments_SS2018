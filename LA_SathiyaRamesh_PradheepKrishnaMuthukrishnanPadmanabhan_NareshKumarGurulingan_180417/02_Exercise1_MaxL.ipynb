{
 "cells": [
  {
   "cell_type": "markdown",
   "metadata": {},
   "source": [
    "Let's suppose we have a set of observations $x=(x_1,…,x_N)^T$, that are drawn independent and identically distributed (i.i.d) from a Gaussian distribution with unknown mean $\\mu$ and variance $\\sigma^2$"
   ]
  },
  {
   "cell_type": "markdown",
   "metadata": {},
   "source": [
    "For this example, we are going to assume that the unknown parameters are $\\mu$=2 and $\\sigma^2$=25 and the number of samples N=100."
   ]
  },
  {
   "cell_type": "markdown",
   "metadata": {},
   "source": [
    "#Task1:# \n",
    "Plot this (unknown) distribution together with the samples in the range [-20, 20]."
   ]
  },
  {
   "cell_type": "markdown",
   "metadata": {},
   "source": [
    "#Task2:#\n",
    "* Implement the likelihood function in python (you can simply use the existing python implementations)\n",
    "* Use a general optimization method to find the values for $\\mu$ and $\\sigma^2$."
   ]
  }
 ],
 "metadata": {
  "kernelspec": {
   "display_name": "Python 2",
   "language": "python",
   "name": "python2"
  },
  "language_info": {
   "codemirror_mode": {
    "name": "ipython",
    "version": 2
   },
   "file_extension": ".py",
   "mimetype": "text/x-python",
   "name": "python",
   "nbconvert_exporter": "python",
   "pygments_lexer": "ipython2",
   "version": "2.7.14"
  }
 },
 "nbformat": 4,
 "nbformat_minor": 1
}
