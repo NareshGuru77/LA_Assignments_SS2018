{
 "cells": [
  {
   "cell_type": "markdown",
   "metadata": {},
   "source": [
    "Let's suppose we have a set of observations $x=(x_1,…,x_N)^T$, that are drawn independent and identically distributed (i.i.d) from a Gaussian distribution with unknown mean $\\mu$ and variance $\\sigma^2$"
   ]
  },
  {
   "cell_type": "markdown",
   "metadata": {},
   "source": [
    "For this example, we are going to assume that the unknown parameters are $\\mu$=2 and $\\sigma^2$=25 and the number of samples N=100."
   ]
  },
  {
   "cell_type": "markdown",
   "metadata": {},
   "source": [
    "#Task1:# \n",
    "Plot this (unknown) distribution together with the samples in the range [-20, 20]."
   ]
  },
  {
   "cell_type": "markdown",
   "metadata": {},
   "source": [
    "#Task2:#\n",
    "* Implement the likelihood function in python (you can simply use the existing python implementations)\n",
    "* Use a general optimization method to find the values for $\\mu$ and $\\sigma^2$."
   ]
  },
  {
   "cell_type": "markdown",
   "metadata": {},
   "source": [
    "#Task3:#\n",
    "Given:\n",
    "<br>\n",
    "$\\mu = \\begin{bmatrix}\n",
    "      0\\\\[0.3em]\n",
    "      0\\\\[0.3em]\n",
    "     \\end{bmatrix}$\n",
    "<br>\n",
    "$\\Sigma = \\begin{bmatrix}\n",
    "      0.5 & 0\\\\[0.3em]\n",
    "      0 & 0.5\\\\[0.3em]\n",
    "     \\end{bmatrix}$\n",
    "<br>\n",
    "1. Visualise a Gaussian with the given parameters.\n",
    "2. Visualise a marginal Gaussian.\n",
    "3. Visualise a slice of Gaussian."
   ]
  },
  {
   "cell_type": "markdown",
   "metadata": {},
   "source": [
    "#Task4:#\n",
    "Given:\n",
    "    <br>\n",
    "    Number of samples is 1000 from them 330 samples are labeled as class $A$ and 670 samples \n",
    "    are labeled as class $B$. There are 2 features $X1$ and $X2$. It is observed that  $p(A,X1)$=248,  $p(A,X2)$=82, $p(B,X1)$=168, $p(B,X2)$=502\n",
    "    <br>\n",
    "Compute:\n",
    "<br>\n",
    "Prior $p(A)$, $p(B)$\n",
    "<br>\n",
    "Likelihood $p(X1|A)$, $p(X1|B)$\n",
    "<br>\n",
    "Posterior $p(A|X1)$"
   ]
  },
  {
   "cell_type": "markdown",
   "metadata": {},
   "source": []
  }
 ],
 "metadata": {
  "kernelspec": {
   "display_name": "Python 3",
   "language": "python",
   "name": "python3"
  },
  "language_info": {
   "codemirror_mode": {
    "name": "ipython",
    "version": 3
   },
   "file_extension": ".py",
   "mimetype": "text/x-python",
   "name": "python",
   "nbconvert_exporter": "python",
   "pygments_lexer": "ipython3",
   "version": "3.6.4"
  }
 },
 "nbformat": 4,
 "nbformat_minor": 1
}
