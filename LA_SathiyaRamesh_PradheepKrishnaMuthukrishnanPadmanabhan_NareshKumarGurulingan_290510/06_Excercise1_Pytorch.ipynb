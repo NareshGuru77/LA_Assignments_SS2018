{
 "cells": [
  {
   "cell_type": "code",
   "execution_count": 1,
   "metadata": {},
   "outputs": [],
   "source": [
    "import torch\n",
    "import torch.nn as nn\n",
    "import torchvision.transforms as transforms\n",
    "import torchvision.datasets as dsets\n",
    "from torch.autograd import Variable\n",
    "import random as rand\n",
    "import matplotlib.pyplot as plt\n",
    "import numpy as np"
   ]
  },
  {
   "cell_type": "code",
   "execution_count": 2,
   "metadata": {},
   "outputs": [],
   "source": [
    "'''\n",
    "STEP 1: LOADING DATASET\n",
    "'''\n",
    " \n",
    "train_dataset = dsets.MNIST(root='./MNIST-data', \n",
    "                            train=True, \n",
    "                            transform=transforms.ToTensor(),\n",
    "                            download=True)\n",
    " \n",
    "test_dataset = dsets.MNIST(root='./MNIST-data', \n",
    "                           train=False, \n",
    "                           transform=transforms.ToTensor())"
   ]
  },
  {
   "cell_type": "code",
   "execution_count": 3,
   "metadata": {},
   "outputs": [],
   "source": [
    "class LinearModel(nn.Module):\n",
    "    \n",
    "    def __init__(self, input_dim, output_dim, \n",
    "                algorithm_name='LogisticRegression',\n",
    "                train_batch_size=1000, num_epochs=10,\n",
    "                learning_rate=0.001, optimizer=torch.optim.Adam):\n",
    "        \n",
    "        super().__init__()\n",
    "        self.linear = nn.Linear(input_dim, output_dim)\n",
    "        parameters = self.linear.parameters()\n",
    "        algorithm_to_loss = {\n",
    "            'LogisticRegression': nn.CrossEntropyLoss(),\n",
    "            'SVM': self.hingeLoss}\n",
    "        \n",
    "        if not any(algorithm_name==algorithm\n",
    "                   for algorithm in algorithm_to_loss.keys()):\n",
    "            raise ValueError ('{} not currently supported', algorithm_name)\n",
    "        else:\n",
    "            self.criterion = algorithm_to_loss[algorithm_name]\n",
    "        \n",
    "        self.batch_size = train_batch_size\n",
    "        self.num_epochs = num_epochs\n",
    "        self.learning_rate = learning_rate\n",
    "        self.optimizer = optimizer\n",
    "             \n",
    "    def forward(self, x):\n",
    "        return self.linear(x)\n",
    "    \n",
    "    def hingeLoss(self, logits, targets):\n",
    "        \n",
    "        zero = torch.Tensor([0]) \n",
    "        targets = targets.long()\n",
    "        score_target_class = logits.gather(1, targets.view(-1,1))  # scores of the target class\n",
    "        targets = targets.view(-1,1)\n",
    "        ones = torch.Tensor([1])\n",
    "        loss = torch.sum(torch.max(zero, logits - score_target_class + 1.0), dim =1)\n",
    "        loss = loss - ones\n",
    "        loss = torch.mean(loss) # Getting the mean loss\n",
    "        return loss\n",
    "    \n",
    "    def fit_and_evaluate(self, model, train_dataset, test_dataset):\n",
    "        \n",
    "        optimizer = self.optimizer(model.parameters(), lr=self.learning_rate)\n",
    "        \n",
    "        train_loader = torch.utils.data.DataLoader(dataset=train_dataset, \n",
    "                                           batch_size=self.batch_size, \n",
    "                                           shuffle=True)\n",
    "        \n",
    "        for epoch in range(self.num_epochs):\n",
    "            for images, labels in train_loader:\n",
    "                images = Variable(images.view(-1, 28*28))\n",
    "                labels = Variable(labels)\n",
    "\n",
    "                # Clear gradients w.r.t. parameters\n",
    "                optimizer.zero_grad()\n",
    "\n",
    "                # Forward pass to get output/logits\n",
    "                outputs = self.forward(images)\n",
    "\n",
    "                # Calculate Loss: softmax --> cross entropy loss\n",
    "                loss = self.criterion(outputs, labels)\n",
    "\n",
    "                # Getting gradients w.r.t. parameters\n",
    "                loss.backward()\n",
    "\n",
    "                # Updating parameters\n",
    "                optimizer.step()\n",
    "            \n",
    "            test_images = Variable(test_dataset.test_data.view(-1, 28*28))\n",
    "            outputs = self.forward(test_images.type(torch.FloatTensor))\n",
    "            \n",
    "            accuracy = self.get_accuracy(outputs, test_dataset.test_labels)\n",
    "\n",
    "            # Print Loss\n",
    "            print('Epoch: {}. Training Loss: {}. Test Accuracy: {}'.format(\n",
    "                            epoch+1, loss.data, accuracy))\n",
    "            \n",
    "    def get_accuracy(self, outputs, labels):\n",
    "        \n",
    "        _, predicted = torch.max(outputs.data, 1)\n",
    "\n",
    "        return 100. * float((predicted.cpu() == \n",
    "                             labels.cpu()).sum()) / len(labels)\n",
    "           \n",
    "    def generate_adversarial(self, model, image_tensor, image_labels,\n",
    "                             epsilon=0.1):\n",
    "        \n",
    "        images = image_tensor.type(torch.FloatTensor)/255\n",
    "        images = Variable(images.view(-1, 28*28),\n",
    "                              requires_grad=True)\n",
    "\n",
    "        outputs = self.forward(images)\n",
    "        loss = self.criterion(outputs, image_labels)\n",
    "        loss.backward()\n",
    "        gradients   = torch.sign(images.grad.data)\n",
    "        adversarial_images = torch.clamp(images.data + epsilon * gradients, 0., 1.)\n",
    "        \n",
    "        return images, adversarial_images\n",
    "    \n",
    "    def visualize_image_and_adversarial(self, image_array, \n",
    "                                        adversarial_array):\n",
    "        \n",
    "        for image, adversarial in zip(image_array, adversarial_array):\n",
    "            fig = plt.figure()\n",
    "            fig.add_subplot(121)\n",
    "            image = np.reshape(image, (28, 28)) * 255\n",
    "            plt.imshow(image, cmap= plt.cm.binary)\n",
    "            plt.title('Image')\n",
    "            fig.add_subplot(122)\n",
    "            adversarial = np.reshape(adversarial, (28, 28)) * 255\n",
    "            plt.imshow(adversarial, cmap= plt.cm.binary)\n",
    "            plt.title('Adversarial')\n",
    "            plt.show()\n",
    "            \n",
    "    def evaluate_adversarial_effect(self, model, image_tensor, adversarial_tensor,\n",
    "                                   image_labels):\n",
    "    \n",
    "        outputs = self.forward(image_tensor)\n",
    "        acc_images = self.get_accuracy(outputs, image_labels)\n",
    "\n",
    "        outputs = self.forward(adversarial_tensor)\n",
    "        acc_adversarial = self.get_accuracy(outputs, image_labels)\n",
    "        \n",
    "        return acc_images, acc_adversarial"
   ]
  },
  {
   "cell_type": "code",
   "execution_count": 4,
   "metadata": {},
   "outputs": [],
   "source": [
    "input_dim = 28*28\n",
    "output_dim = 10"
   ]
  },
  {
   "cell_type": "code",
   "execution_count": 5,
   "metadata": {},
   "outputs": [
    {
     "name": "stdout",
     "output_type": "stream",
     "text": [
      "Epoch: 1. Training Loss: 0.9281380772590637. Test Accuracy: 83.31\n",
      "Epoch: 2. Training Loss: 0.651793897151947. Test Accuracy: 86.93\n",
      "Epoch: 3. Training Loss: 0.5245052576065063. Test Accuracy: 88.29\n",
      "Epoch: 4. Training Loss: 0.46699902415275574. Test Accuracy: 89.36\n",
      "Epoch: 5. Training Loss: 0.4153762459754944. Test Accuracy: 89.84\n",
      "Epoch: 6. Training Loss: 0.40514495968818665. Test Accuracy: 90.29\n",
      "Epoch: 7. Training Loss: 0.38136741518974304. Test Accuracy: 90.71\n",
      "Epoch: 8. Training Loss: 0.352594792842865. Test Accuracy: 90.78\n",
      "Epoch: 9. Training Loss: 0.3425963222980499. Test Accuracy: 91.05\n",
      "Epoch: 10. Training Loss: 0.3278229236602783. Test Accuracy: 91.06\n"
     ]
    }
   ],
   "source": [
    "model_logisticReg = LinearModel(input_dim, output_dim, algorithm_name='LogisticRegression')\n",
    "model_logisticReg.fit_and_evaluate(model_logisticReg, train_dataset, test_dataset)"
   ]
  },
  {
   "cell_type": "code",
   "execution_count": 6,
   "metadata": {},
   "outputs": [
    {
     "data": {
      "image/png": "[encoded data removed]",
      "text/plain": [
       "<matplotlib.figure.Figure at 0x7f58d74cec88>"
      ]
     },
     "metadata": {},
     "output_type": "display_data"
    },
    {
     "data": {
      "image/png": "[encoded data removed]",
      "text/plain": [
       "<matplotlib.figure.Figure at 0x7f58d73cc2b0>"
      ]
     },
     "metadata": {},
     "output_type": "display_data"
    },
    {
     "data": {
      "image/png": "[encoded data removed]",
      "text/plain": [
       "<matplotlib.figure.Figure at 0x7f58d73f6dd8>"
      ]
     },
     "metadata": {},
     "output_type": "display_data"
    },
    {
     "data": {
      "image/png": "[encoded data removed]",
      "text/plain": [
       "<matplotlib.figure.Figure at 0x7f58d74bb8d0>"
      ]
     },
     "metadata": {},
     "output_type": "display_data"
    },
    {
     "data": {
      "image/png": "[encoded data removed]",
      "text/plain": [
       "<matplotlib.figure.Figure at 0x7f58d720ff98>"
      ]
     },
     "metadata": {},
     "output_type": "display_data"
    }
   ],
   "source": [
    "num_adversarials = 100\n",
    "image_logReg, adver_logReg = model_logisticReg.generate_adversarial(\n",
    "                                                model_logisticReg,\n",
    "                                                test_dataset.test_data[0:num_adversarials],\n",
    "                                                test_dataset.test_labels[0:num_adversarials].reshape(-1))\n",
    "\n",
    "model_logisticReg.visualize_image_and_adversarial(image_logReg[0:5].detach().numpy(),\n",
    "                                                 adver_logReg[0:5].detach().numpy())"
   ]
  },
  {
   "cell_type": "code",
   "execution_count": 7,
   "metadata": {},
   "outputs": [
    {
     "data": {
      "text/plain": [
       "(94.0, 12.0)"
      ]
     },
     "execution_count": 7,
     "metadata": {},
     "output_type": "execute_result"
    }
   ],
   "source": [
    "acc_before_attack, acc_after_attack = model_logisticReg.evaluate_adversarial_effect(\n",
    "                                            model_logisticReg, image_logReg, \n",
    "                                            adver_logReg, \n",
    "                                            test_dataset.test_labels[0:num_adversarials].reshape(-1))\n",
    "acc_before_attack, acc_after_attack"
   ]
  },
  {
   "cell_type": "code",
   "execution_count": 8,
   "metadata": {},
   "outputs": [
    {
     "name": "stdout",
     "output_type": "stream",
     "text": [
      "Epoch: 1. Training Loss: 1.1917834281921387. Test Accuracy: 84.75\n",
      "Epoch: 2. Training Loss: 0.88383948802948. Test Accuracy: 88.4\n",
      "Epoch: 3. Training Loss: 0.6673963069915771. Test Accuracy: 89.56\n",
      "Epoch: 4. Training Loss: 0.5843917727470398. Test Accuracy: 90.11\n",
      "Epoch: 5. Training Loss: 0.6013644337654114. Test Accuracy: 90.43\n",
      "Epoch: 6. Training Loss: 0.5254296660423279. Test Accuracy: 90.65\n",
      "Epoch: 7. Training Loss: 0.490567684173584. Test Accuracy: 90.57\n",
      "Epoch: 8. Training Loss: 0.5280900001525879. Test Accuracy: 91.04\n",
      "Epoch: 9. Training Loss: 0.42281126976013184. Test Accuracy: 90.95\n",
      "Epoch: 10. Training Loss: 0.4208052456378937. Test Accuracy: 90.93\n"
     ]
    }
   ],
   "source": [
    "model_SVM = LinearModel(input_dim, output_dim, algorithm_name='SVM')\n",
    "model_SVM.fit_and_evaluate(model_SVM, train_dataset, test_dataset)"
   ]
  },
  {
   "cell_type": "code",
   "execution_count": 11,
   "metadata": {},
   "outputs": [
    {
     "data": {
      "image/png": "[encoded data removed]",
      "text/plain": [
       "<matplotlib.figure.Figure at 0x7f58d74815c0>"
      ]
     },
     "metadata": {},
     "output_type": "display_data"
    },
    {
     "data": {
      "image/png": "[encoded data removed]",
      "text/plain": [
       "<matplotlib.figure.Figure at 0x7f58d7206d68>"
      ]
     },
     "metadata": {},
     "output_type": "display_data"
    },
    {
     "data": {
      "image/png": "[encoded data removed]",
      "text/plain": [
       "<matplotlib.figure.Figure at 0x7f58d70abd68>"
      ]
     },
     "metadata": {},
     "output_type": "display_data"
    },
    {
     "data": {
      "image/png": "[encoded data removed]",
      "text/plain": [
       "<matplotlib.figure.Figure at 0x7f58d7247c18>"
      ]
     },
     "metadata": {},
     "output_type": "display_data"
    },
    {
     "data": {
      "image/png": "[encoded data removed]",
      "text/plain": [
       "<matplotlib.figure.Figure at 0x7f58d706bbe0>"
      ]
     },
     "metadata": {},
     "output_type": "display_data"
    }
   ],
   "source": [
    "num_adversarials = 100\n",
    "image_svm, adver_svm = model_SVM.generate_adversarial(\n",
    "                                                model_SVM,\n",
    "                                                test_dataset.test_data[0:num_adversarials],\n",
    "                                                test_dataset.test_labels[0:num_adversarials].reshape(-1),\n",
    "                                                epsilon=0.5)\n",
    "\n",
    "model_SVM.visualize_image_and_adversarial(image_svm[0:5].detach().numpy(),\n",
    "                                                 adver_svm[0:5].detach().numpy())"
   ]
  },
  {
   "cell_type": "code",
   "execution_count": 12,
   "metadata": {},
   "outputs": [
    {
     "data": {
      "text/plain": [
       "(93.0, 70.0)"
      ]
     },
     "execution_count": 12,
     "metadata": {},
     "output_type": "execute_result"
    }
   ],
   "source": [
    "acc_before_attack, acc_after_attack = model_SVM.evaluate_adversarial_effect(\n",
    "                                            model_SVM, image_svm, \n",
    "                                            adver_svm, \n",
    "                                            test_dataset.test_labels[0:num_adversarials].reshape(-1))\n",
    "acc_before_attack, acc_after_attack"
   ]
  },
  {
   "cell_type": "code",
   "execution_count": null,
   "metadata": {},
   "outputs": [],
   "source": []
  }
 ],
 "metadata": {
  "kernelspec": {
   "display_name": "Python 3",
   "language": "python",
   "name": "python3"
  },
  "language_info": {
   "codemirror_mode": {
    "name": "ipython",
    "version": 3
   },
   "file_extension": ".py",
   "mimetype": "text/x-python",
   "name": "python",
   "nbconvert_exporter": "python",
   "pygments_lexer": "ipython3",
   "version": "3.6.4"
  }
 },
 "nbformat": 4,
 "nbformat_minor": 2
}
