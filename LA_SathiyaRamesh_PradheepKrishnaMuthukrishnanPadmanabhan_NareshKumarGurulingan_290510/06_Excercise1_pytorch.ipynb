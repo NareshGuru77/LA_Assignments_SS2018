{
 "cells": [
  {
   "cell_type": "markdown",
   "metadata": {},
   "source": [
    "## Team_members:Naresh Kumar Gurulingan, Pradheep Krishna Muthukrishnan Padmanabhan, Sathiya Ramesh"
   ]
  },
  {
   "cell_type": "code",
   "execution_count": 1,
   "metadata": {
    "colab": {
     "autoexec": {
      "startup": false,
      "wait_interval": 0
     }
    },
    "colab_type": "code",
    "collapsed": true,
    "id": "CFb1ZfwW2Kdk"
   },
   "outputs": [],
   "source": [
    "import torch\n",
    "import torch.nn as nn\n",
    "import torchvision.transforms as transforms\n",
    "import torchvision.datasets as dsets\n",
    "from torch.autograd import Variable\n",
    "import random as rand\n",
    "import matplotlib.pyplot as plt\n",
    "import numpy as np"
   ]
  },
  {
   "cell_type": "markdown",
   "metadata": {},
   "source": [
    "## Task 1: obtaining the MNIST dataset: "
   ]
  },
  {
   "cell_type": "code",
   "execution_count": 2,
   "metadata": {
    "colab": {
     "autoexec": {
      "startup": false,
      "wait_interval": 0
     }
    },
    "colab_type": "code",
    "collapsed": true,
    "id": "0xV9e7gs2M0c"
   },
   "outputs": [],
   "source": [
    "'''\n",
    "STEP 1: LOADING DATASET\n",
    "'''\n",
    " \n",
    "train_dataset = dsets.MNIST(root='./MNIST-data', \n",
    "                            train=True, \n",
    "                            transform=transforms.ToTensor(),\n",
    "                            download=True)\n",
    " \n",
    "test_dataset = dsets.MNIST(root='./MNIST-data', \n",
    "                           train=False, \n",
    "                           transform=transforms.ToTensor())"
   ]
  },
  {
   "cell_type": "code",
   "execution_count": 3,
   "metadata": {
    "colab": {
     "autoexec": {
      "startup": false,
      "wait_interval": 0
     }
    },
    "colab_type": "code",
    "collapsed": true,
    "id": "oPo5RL8a2Qsb"
   },
   "outputs": [],
   "source": [
    "class LinearModel(nn.Module):\n",
    "    \n",
    "    def __init__(self, input_dim, output_dim, \n",
    "                algorithm_name='LogisticRegression',\n",
    "                train_batch_size=1000, num_epochs=10,\n",
    "                learning_rate=0.001, optimizer=torch.optim.Adam):\n",
    "        \n",
    "        super().__init__()\n",
    "        self.linear = nn.Linear(input_dim, output_dim)\n",
    "        parameters = self.linear.parameters()\n",
    "        algorithm_to_loss = {\n",
    "            'LogisticRegression': nn.CrossEntropyLoss(),\n",
    "            'SVM': self.hingeLoss}\n",
    "        \n",
    "        if not any(algorithm_name==algorithm\n",
    "                   for algorithm in algorithm_to_loss.keys()):\n",
    "            raise ValueError ('{} not currently supported', algorithm_name)\n",
    "        else:\n",
    "            self.criterion = algorithm_to_loss[algorithm_name]\n",
    "        \n",
    "        self.batch_size = train_batch_size\n",
    "        self.num_epochs = num_epochs\n",
    "        self.learning_rate = learning_rate\n",
    "        self.optimizer = optimizer\n",
    "             \n",
    "    def forward(self, x):\n",
    "        return self.linear(x)\n",
    "    \n",
    "    def hingeLoss(self, logits, targets):\n",
    "        \n",
    "#         zero = torch.Tensor([0]) \n",
    "#         targets = targets.long()\n",
    "#         score_target_class = logits.gather(1, targets.view(-1,1))  # scores of the target class\n",
    "#         targets = targets.view(-1,1)\n",
    "#         ones = torch.Tensor([1])\n",
    "#         loss = torch.sum(torch.max(zero, logits - score_target_class + 1.0), dim =1)\n",
    "#         loss = loss - ones\n",
    "#         loss = torch.mean(loss) # Getting the mean loss\n",
    "#         return loss\n",
    "        targets = targets.long()\n",
    "        loss= torch.max(torch.tensor([0.]),logits-logits.gather(1, targets.unsqueeze(1))+1)\n",
    "        dim1 = torch.arange(0, targets.shape[0], out=torch.LongTensor())\n",
    "        labels=targets.long()\n",
    "        idx=(dim1,labels)\n",
    "        loss.index_put_(idx, torch.tensor([0.]))  \n",
    "        #loss=torch.pow(loss,2)\n",
    "        return torch.mean(torch.sum(loss,dim=1))\n",
    "    \n",
    "    def fit_and_evaluate(self, model, train_dataset, test_data, test_labels):\n",
    "        \n",
    "        optimizer = self.optimizer(model.parameters(), lr=self.learning_rate)\n",
    "        \n",
    "        train_loader = torch.utils.data.DataLoader(dataset=train_dataset, \n",
    "                                           batch_size=self.batch_size, \n",
    "                                           shuffle=True)\n",
    "        \n",
    "        for epoch in range(self.num_epochs):\n",
    "            for images, labels in train_loader:\n",
    "                images = Variable(images.view(-1, 28*28))\n",
    "                labels = Variable(labels)\n",
    "\n",
    "                # Clear gradients w.r.t. parameters\n",
    "                optimizer.zero_grad()\n",
    "\n",
    "                # Forward pass to get output/logits\n",
    "                outputs = self.forward(images)\n",
    "\n",
    "                # Calculate Loss: softmax --> cross entropy loss\n",
    "                loss = self.criterion(outputs, labels)\n",
    "\n",
    "                # Getting gradients w.r.t. parameters\n",
    "                loss.backward()\n",
    "\n",
    "                # Updating parameters\n",
    "                optimizer.step()\n",
    "            \n",
    "            test_images = Variable(test_data.view(-1, 28*28))\n",
    "            outputs = self.forward(test_images.type(torch.FloatTensor))\n",
    "            \n",
    "            accuracy = self.get_accuracy(outputs, test_labels)\n",
    "\n",
    "            # Print Loss\n",
    "            print('Epoch: {}. Training Loss: {}. Test Accuracy: {}'.format(\n",
    "                            epoch+1, loss.data, accuracy))\n",
    "            \n",
    "    def get_accuracy(self, outputs, labels, get_pred_conf=False):\n",
    "        \n",
    "        _, predicted = torch.max(outputs.data, 1)\n",
    "        accuracy = 100. * float((predicted.cpu() == \n",
    "                             labels.cpu()).sum()) / len(labels)\n",
    "        \n",
    "        if get_pred_conf:\n",
    "            raw_preds = outputs.data.numpy()\n",
    "            return accuracy, predicted.numpy(), np.max(raw_preds, axis=1)\n",
    "\n",
    "        return accuracy\n",
    "           \n",
    "    def generate_adversarial(self, model, image_tensor, image_labels,\n",
    "                             epsilon=0.1):\n",
    "        \n",
    "        images = image_tensor.type(torch.FloatTensor)/255\n",
    "        images = Variable(images.view(-1, 28*28),\n",
    "                              requires_grad=True)\n",
    "\n",
    "        outputs = self.forward(images)\n",
    "        loss = self.criterion(outputs, image_labels)\n",
    "        loss.backward()\n",
    "        gradients   = torch.sign(images.grad.data)\n",
    "        adversarial_images = torch.clamp(images.data + epsilon * gradients, 0., 1.)\n",
    "        \n",
    "        return images, adversarial_images\n",
    "    \n",
    "    def plot(self, image, adversarial, img_title, adv_title):\n",
    "        fig = plt.figure()\n",
    "        fig.add_subplot(121)\n",
    "        image = np.reshape(image, (28, 28)) * 255\n",
    "        plt.imshow(image, cmap= plt.cm.binary)\n",
    "        plt.title(img_title)\n",
    "        fig.add_subplot(122)\n",
    "        adversarial = np.reshape(adversarial, (28, 28)) * 255\n",
    "        plt.imshow(adversarial, cmap= plt.cm.binary)\n",
    "        plt.title(adv_title)\n",
    "        plt.tight_layout()\n",
    "        plt.show()\n",
    "    \n",
    "    def visualize_image_and_adversarial(self, **kwargs):\n",
    "        \n",
    "        results = kwargs['results']\n",
    "        if results is None:\n",
    "            image_array = kwargs['image_array']\n",
    "            adversarial_array = kwargs['adversarial_array']\n",
    "            for image, adversarial in zip(image_array, adversarial_array):\n",
    "                self.plot(image, adversarial, img_title='Image', \n",
    "                         adv_title='Adversarial')\n",
    "        else:\n",
    "            for index, (image, adversarial) in enumerate(zip(\n",
    "                                results['image'], results['adversarial'])):\n",
    "                if index == kwargs['num_visualize']:\n",
    "                    break\n",
    "                img_title = 'Image \\n Prediction: {} \\n Score: {}'.format(\n",
    "                                results['pred_img'][index], results['conf_img'][index])\n",
    "                adv_title = 'Adversarial \\n Prediction: {} \\n Score: {}'.format(\n",
    "                                results['pred_adv'][index], results['conf_adv'][index])\n",
    "                self.plot(image, adversarial, img_title=img_title, \n",
    "                         adv_title=adv_title)\n",
    "            \n",
    "    def evaluate_adversarial_effect(self, model, image_tensor, adversarial_tensor,\n",
    "                                   image_labels):\n",
    "        \n",
    "        results = {}\n",
    "        results['image'] = image_tensor.detach().numpy()\n",
    "        results['adversarial'] = adversarial_tensor.detach().numpy()\n",
    "    \n",
    "        outputs = self.forward(image_tensor)\n",
    "        results['acc_img'], results['pred_img'], results['conf_img'] = self.get_accuracy(\n",
    "                                        outputs, image_labels, get_pred_conf=True)\n",
    "\n",
    "        outputs = self.forward(adversarial_tensor)\n",
    "        results['acc_adv'], results['pred_adv'], results['conf_adv'] = self.get_accuracy(\n",
    "                                        outputs, image_labels, get_pred_conf=True)\n",
    "        \n",
    "        return results"
   ]
  },
  {
   "cell_type": "code",
   "execution_count": 4,
   "metadata": {
    "colab": {
     "autoexec": {
      "startup": false,
      "wait_interval": 0
     }
    },
    "colab_type": "code",
    "collapsed": true,
    "id": "sWCz4BOo2U8V"
   },
   "outputs": [],
   "source": [
    "input_dim = 28*28\n",
    "output_dim = 10"
   ]
  },
  {
   "cell_type": "markdown",
   "metadata": {},
   "source": [
    "## Task 2: The selected models are Logistic Regression and SVM"
   ]
  },
  {
   "cell_type": "markdown",
   "metadata": {},
   "source": [
    "## Task 3: Obtaining above 90 percent accuracy on Logistic Regression:"
   ]
  },
  {
   "cell_type": "code",
   "execution_count": 5,
   "metadata": {
    "colab": {
     "autoexec": {
      "startup": false,
      "wait_interval": 0
     },
     "base_uri": "https://localhost:8080/",
     "height": 206
    },
    "colab_type": "code",
    "executionInfo": {
     "elapsed": 59611,
     "status": "ok",
     "timestamp": 1528495397611,
     "user": {
      "displayName": "Pradheep krishna",
      "photoUrl": "//lh5.googleusercontent.com/-M377mmBxoNs/AAAAAAAAAAI/AAAAAAAAALw/wYOSE7fajrY/s50-c-k-no/photo.jpg",
      "userId": "110109036196497630582"
     },
     "user_tz": -120
    },
    "id": "aKFZCK1S2Yf0",
    "outputId": "c6f6ccb4-592f-474c-a2ac-3e592b44b1a1"
   },
   "outputs": [
    {
     "name": "stdout",
     "output_type": "stream",
     "text": [
      "...........Logistic Regression..............\n",
      "\n",
      "Epoch: 1. Training Loss: 0.8672741651535034. Test Accuracy: 83.02\n",
      "Epoch: 2. Training Loss: 0.6605766415596008. Test Accuracy: 87.0\n",
      "Epoch: 3. Training Loss: 0.5138049721717834. Test Accuracy: 88.55\n",
      "Epoch: 4. Training Loss: 0.4657759964466095. Test Accuracy: 89.38\n",
      "Epoch: 5. Training Loss: 0.4272240102291107. Test Accuracy: 89.92\n",
      "Epoch: 6. Training Loss: 0.4208531677722931. Test Accuracy: 90.48\n",
      "Epoch: 7. Training Loss: 0.3497934341430664. Test Accuracy: 90.49\n",
      "Epoch: 8. Training Loss: 0.327832967042923. Test Accuracy: 90.82\n",
      "Epoch: 9. Training Loss: 0.3460347354412079. Test Accuracy: 90.87\n",
      "Epoch: 10. Training Loss: 0.31379234790802. Test Accuracy: 91.26\n"
     ]
    }
   ],
   "source": [
    "print ('...........Logistic Regression..............\\n')\n",
    "\n",
    "model_logisticReg = LinearModel(input_dim, output_dim, algorithm_name='LogisticRegression')\n",
    "model_logisticReg.fit_and_evaluate(model_logisticReg, train_dataset, \n",
    "                                   test_dataset.test_data, test_dataset.test_labels)"
   ]
  },
  {
   "cell_type": "markdown",
   "metadata": {},
   "source": [
    "## Task 3: Obtaining above 90 percent accuracy on SVM:"
   ]
  },
  {
   "cell_type": "code",
   "execution_count": 6,
   "metadata": {},
   "outputs": [
    {
     "name": "stdout",
     "output_type": "stream",
     "text": [
      "...........Support Vector Machine..............\n",
      "\n",
      "Epoch: 1. Training Loss: 1.1074693202972412. Test Accuracy: 85.0\n",
      "Epoch: 2. Training Loss: 0.8011562824249268. Test Accuracy: 88.65\n",
      "Epoch: 3. Training Loss: 0.7575165033340454. Test Accuracy: 89.65\n",
      "Epoch: 4. Training Loss: 0.5674992203712463. Test Accuracy: 90.14\n",
      "Epoch: 5. Training Loss: 0.5898672938346863. Test Accuracy: 90.28\n",
      "Epoch: 6. Training Loss: 0.6022735238075256. Test Accuracy: 90.57\n",
      "Epoch: 7. Training Loss: 0.550260603427887. Test Accuracy: 90.58\n",
      "Epoch: 8. Training Loss: 0.4232252538204193. Test Accuracy: 90.83\n",
      "Epoch: 9. Training Loss: 0.5049446821212769. Test Accuracy: 90.71\n",
      "Epoch: 10. Training Loss: 0.45765921473503113. Test Accuracy: 90.92\n"
     ]
    }
   ],
   "source": [
    "print ('...........Support Vector Machine..............\\n')\n",
    "\n",
    "model_SVM = LinearModel(input_dim, output_dim, algorithm_name='SVM')\n",
    "model_SVM.fit_and_evaluate(model_SVM, train_dataset, \n",
    "                           test_dataset.test_data, test_dataset.test_labels)"
   ]
  },
  {
   "cell_type": "markdown",
   "metadata": {},
   "source": [
    "## Task 4: Generating 100 adversarial images for Logistic Regression:"
   ]
  },
  {
   "cell_type": "code",
   "execution_count": 7,
   "metadata": {
    "colab": {
     "autoexec": {
      "startup": false,
      "wait_interval": 0
     },
     "base_uri": "https://localhost:8080/",
     "height": 1497
    },
    "colab_type": "code",
    "executionInfo": {
     "elapsed": 2303,
     "status": "ok",
     "timestamp": 1528495399986,
     "user": {
      "displayName": "Pradheep krishna",
      "photoUrl": "//lh5.googleusercontent.com/-M377mmBxoNs/AAAAAAAAAAI/AAAAAAAAALw/wYOSE7fajrY/s50-c-k-no/photo.jpg",
      "userId": "110109036196497630582"
     },
     "user_tz": -120
    },
    "id": "H0ltSXU52ahD",
    "outputId": "038293c3-c37e-4c38-c2cb-35da819bace9"
   },
   "outputs": [
    {
     "name": "stdout",
     "output_type": "stream",
     "text": [
      "..........Visualize 5 sample images and corresponding adversarials...........\n",
      "\n"
     ]
    },
    {
     "data": {
      "image/png": "[encoded data removed]",
      "text/plain": [
       "<matplotlib.figure.Figure at 0x7f1ac3423588>"
      ]
     },
     "metadata": {},
     "output_type": "display_data"
    },
    {
     "data": {
      "image/png": "[encoded data removed]",
      "text/plain": [
       "<matplotlib.figure.Figure at 0x7f1ac3275320>"
      ]
     },
     "metadata": {},
     "output_type": "display_data"
    },
    {
     "data": {
      "image/png": "[encoded data removed]",
      "text/plain": [
       "<matplotlib.figure.Figure at 0x7f1ac3335320>"
      ]
     },
     "metadata": {},
     "output_type": "display_data"
    },
    {
     "data": {
      "image/png": "[encoded data removed]",
      "text/plain": [
       "<matplotlib.figure.Figure at 0x7f1ac33d44a8>"
      ]
     },
     "metadata": {},
     "output_type": "display_data"
    },
    {
     "data": {
      "image/png": "[encoded data removed]",
      "text/plain": [
       "<matplotlib.figure.Figure at 0x7f1ac3174898>"
      ]
     },
     "metadata": {},
     "output_type": "display_data"
    }
   ],
   "source": [
    "num_adversarials = 100\n",
    "image_logReg, adver_logReg = model_logisticReg.generate_adversarial(\n",
    "                                                model_logisticReg,\n",
    "                                                test_dataset.test_data[0:num_adversarials],\n",
    "                                                test_dataset.test_labels[0:num_adversarials].reshape(-1))\n",
    "\n",
    "print ('..........Visualize 5 sample images and corresponding adversarials...........\\n')\n",
    "model_logisticReg.visualize_image_and_adversarial(image_array=image_logReg[0:5].detach().numpy(),\n",
    "                                                 adversarial_array=adver_logReg[0:5].detach().numpy(),\n",
    "                                                 results=None)"
   ]
  },
  {
   "cell_type": "markdown",
   "metadata": {},
   "source": [
    "## Task 4: Evaluating the effects of the adversarial images on Logistic Regression:"
   ]
  },
  {
   "cell_type": "code",
   "execution_count": 8,
   "metadata": {
    "colab": {
     "autoexec": {
      "startup": false,
      "wait_interval": 0
     },
     "base_uri": "https://localhost:8080/",
     "height": 6554
    },
    "colab_type": "code",
    "executionInfo": {
     "elapsed": 7955,
     "status": "ok",
     "timestamp": 1528495408027,
     "user": {
      "displayName": "Pradheep krishna",
      "photoUrl": "//lh5.googleusercontent.com/-M377mmBxoNs/AAAAAAAAAAI/AAAAAAAAALw/wYOSE7fajrY/s50-c-k-no/photo.jpg",
      "userId": "110109036196497630582"
     },
     "user_tz": -120
    },
    "id": "t7hMBLYHOV5R",
    "outputId": "9244c6b5-3dc9-4b3d-91ae-387350e6bb67"
   },
   "outputs": [
    {
     "name": "stdout",
     "output_type": "stream",
     "text": [
      "..............Adversarial attack on Logistic Regression............\n",
      "\n"
     ]
    },
    {
     "data": {
      "image/png": "[encoded data removed]",
      "text/plain": [
       "<matplotlib.figure.Figure at 0x7f1ac33befd0>"
      ]
     },
     "metadata": {},
     "output_type": "display_data"
    },
    {
     "data": {
      "image/png": "[encoded data removed]",
      "text/plain": [
       "<matplotlib.figure.Figure at 0x7f1ac3126c88>"
      ]
     },
     "metadata": {},
     "output_type": "display_data"
    },
    {
     "data": {
      "image/png": "[encoded data removed]",
      "text/plain": [
       "<matplotlib.figure.Figure at 0x7f1ac3209128>"
      ]
     },
     "metadata": {},
     "output_type": "display_data"
    },
    {
     "data": {
      "image/png": "[encoded data removed]",
      "text/plain": [
       "<matplotlib.figure.Figure at 0x7f1ac3197080>"
      ]
     },
     "metadata": {},
     "output_type": "display_data"
    },
    {
     "data": {
      "image/png": "[encoded data removed]",
      "text/plain": [
       "<matplotlib.figure.Figure at 0x7f1ac3314e80>"
      ]
     },
     "metadata": {},
     "output_type": "display_data"
    },
    {
     "name": "stdout",
     "output_type": "stream",
     "text": [
      "------------------------------------------------------------------\n",
      "Accuracy on actual images: 93.0\n",
      "Accuracy on adversarial images: 11.0\n"
     ]
    }
   ],
   "source": [
    "results = model_logisticReg.evaluate_adversarial_effect(\n",
    "                                            model_logisticReg, image_logReg, \n",
    "                                            adver_logReg, \n",
    "                                            test_dataset.test_labels[0:num_adversarials].reshape(-1))\n",
    "print ('..............Adversarial attack on Logistic Regression............\\n')\n",
    "model_logisticReg.visualize_image_and_adversarial(results=results, num_visualize=5)\n",
    "print ('------------------------------------------------------------------')\n",
    "print ('Accuracy on actual images: {}'.format(results['acc_img']))\n",
    "print ('Accuracy on adversarial images: {}'.format(results['acc_adv']))"
   ]
  },
  {
   "cell_type": "markdown",
   "metadata": {},
   "source": [
    "## Task 4: Generating 100 adversarial images for SVM:"
   ]
  },
  {
   "cell_type": "code",
   "execution_count": 9,
   "metadata": {
    "colab": {
     "autoexec": {
      "startup": false,
      "wait_interval": 0
     },
     "base_uri": "https://localhost:8080/",
     "height": 1497
    },
    "colab_type": "code",
    "executionInfo": {
     "elapsed": 2133,
     "status": "ok",
     "timestamp": 1528495470720,
     "user": {
      "displayName": "Pradheep krishna",
      "photoUrl": "//lh5.googleusercontent.com/-M377mmBxoNs/AAAAAAAAAAI/AAAAAAAAALw/wYOSE7fajrY/s50-c-k-no/photo.jpg",
      "userId": "110109036196497630582"
     },
     "user_tz": -120
    },
    "id": "CL1j_rv326Qz",
    "outputId": "6324f754-a316-4a95-bc6a-e177275bc38c"
   },
   "outputs": [
    {
     "name": "stdout",
     "output_type": "stream",
     "text": [
      "..........Visualize 5 sample images and corresponding adversarials...........\n",
      "\n"
     ]
    },
    {
     "data": {
      "image/png": "[encoded data removed]",
      "text/plain": [
       "<matplotlib.figure.Figure at 0x7f1ac303c710>"
      ]
     },
     "metadata": {},
     "output_type": "display_data"
    },
    {
     "data": {
      "image/png": "[encoded data removed]",
      "text/plain": [
       "<matplotlib.figure.Figure at 0x7f1ac163ef98>"
      ]
     },
     "metadata": {},
     "output_type": "display_data"
    },
    {
     "data": {
      "image/png": "[encoded data removed]",
      "text/plain": [
       "<matplotlib.figure.Figure at 0x7f1ac2fe7d68>"
      ]
     },
     "metadata": {},
     "output_type": "display_data"
    },
    {
     "data": {
      "image/png": "[encoded data removed]",
      "text/plain": [
       "<matplotlib.figure.Figure at 0x7f1ac2f804e0>"
      ]
     },
     "metadata": {},
     "output_type": "display_data"
    },
    {
     "data": {
      "image/png": "[encoded data removed]",
      "text/plain": [
       "<matplotlib.figure.Figure at 0x7f1ac15c1550>"
      ]
     },
     "metadata": {},
     "output_type": "display_data"
    }
   ],
   "source": [
    "num_adversarials = 100\n",
    "image_svm, adver_svm = model_SVM.generate_adversarial(\n",
    "                                                model_SVM,\n",
    "                                                test_dataset.test_data[0:num_adversarials],\n",
    "                                                test_dataset.test_labels[0:num_adversarials].reshape(-1),\n",
    "                                                epsilon=0.5)\n",
    "\n",
    "print ('..........Visualize 5 sample images and corresponding adversarials...........\\n')\n",
    "model_SVM.visualize_image_and_adversarial(image_array=image_svm[0:5].detach().numpy(),\n",
    "                                                 adversarial_array=adver_svm[0:5].detach().numpy(),\n",
    "                                                 results=None)"
   ]
  },
  {
   "cell_type": "markdown",
   "metadata": {},
   "source": [
    "## Task 4: Evaluating the effects of the adversarial images on SVM:"
   ]
  },
  {
   "cell_type": "code",
   "execution_count": 10,
   "metadata": {
    "colab": {
     "autoexec": {
      "startup": false,
      "wait_interval": 0
     },
     "base_uri": "https://localhost:8080/",
     "height": 6554
    },
    "colab_type": "code",
    "executionInfo": {
     "elapsed": 7962,
     "status": "ok",
     "timestamp": 1528495478770,
     "user": {
      "displayName": "Pradheep krishna",
      "photoUrl": "//lh5.googleusercontent.com/-M377mmBxoNs/AAAAAAAAAAI/AAAAAAAAALw/wYOSE7fajrY/s50-c-k-no/photo.jpg",
      "userId": "110109036196497630582"
     },
     "user_tz": -120
    },
    "id": "BwIqGF-sOdhZ",
    "outputId": "9a19e49c-76fc-4333-ccc7-748b64ef4579"
   },
   "outputs": [
    {
     "name": "stdout",
     "output_type": "stream",
     "text": [
      "..............Adversarial attack on Support Vector Machine............\n",
      "\n"
     ]
    },
    {
     "data": {
      "image/png": "[encoded data removed]",
      "text/plain": [
       "<matplotlib.figure.Figure at 0x7f1ac33bef28>"
      ]
     },
     "metadata": {},
     "output_type": "display_data"
    },
    {
     "data": {
      "image/png": "[encoded data removed]",
      "text/plain": [
       "<matplotlib.figure.Figure at 0x7f1ac148cc50>"
      ]
     },
     "metadata": {},
     "output_type": "display_data"
    },
    {
     "data": {
      "image/png": "[encoded data removed]",
      "text/plain": [
       "<matplotlib.figure.Figure at 0x7f1ac15642b0>"
      ]
     },
     "metadata": {},
     "output_type": "display_data"
    },
    {
     "data": {
      "image/png": "[encoded data removed]",
      "text/plain": [
       "<matplotlib.figure.Figure at 0x7f1ac149a240>"
      ]
     },
     "metadata": {},
     "output_type": "display_data"
    },
    {
     "data": {
      "image/png": "[encoded data removed]",
      "text/plain": [
       "<matplotlib.figure.Figure at 0x7f1ac3242828>"
      ]
     },
     "metadata": {},
     "output_type": "display_data"
    },
    {
     "name": "stdout",
     "output_type": "stream",
     "text": [
      "------------------------------------------------------------------\n",
      "Accuracy on actual images: 95.0\n",
      "Accuracy on adversarial images: 72.0\n"
     ]
    }
   ],
   "source": [
    "results = model_SVM.evaluate_adversarial_effect(\n",
    "                                            model_SVM, image_svm, \n",
    "                                            adver_svm, \n",
    "                                            test_dataset.test_labels[0:num_adversarials].reshape(-1))\n",
    "print ('..............Adversarial attack on Support Vector Machine............\\n')\n",
    "model_SVM.visualize_image_and_adversarial(results=results, num_visualize=5)\n",
    "print ('------------------------------------------------------------------')\n",
    "print ('Accuracy on actual images: {}'.format(results['acc_img']))\n",
    "print ('Accuracy on adversarial images: {}'.format(results['acc_adv']))"
   ]
  },
  {
   "cell_type": "markdown",
   "metadata": {},
   "source": [
    "## Task 5: Testing models by interchanging generated adversarials:"
   ]
  },
  {
   "cell_type": "code",
   "execution_count": 11,
   "metadata": {
    "colab": {
     "autoexec": {
      "startup": false,
      "wait_interval": 0
     },
     "base_uri": "https://localhost:8080/",
     "height": 206
    },
    "colab_type": "code",
    "executionInfo": {
     "elapsed": 60084,
     "status": "ok",
     "timestamp": 1528495539467,
     "user": {
      "displayName": "Pradheep krishna",
      "photoUrl": "//lh5.googleusercontent.com/-M377mmBxoNs/AAAAAAAAAAI/AAAAAAAAALw/wYOSE7fajrY/s50-c-k-no/photo.jpg",
      "userId": "110109036196497630582"
     },
     "user_tz": -120
    },
    "id": "CNvSmpTK4KlC",
    "outputId": "d4ab9f11-cf9c-4851-f1ac-44c31ec66042"
   },
   "outputs": [
    {
     "name": "stdout",
     "output_type": "stream",
     "text": [
      ".....Testing Logistic Regression on adversarial images generated from SVM...\n",
      "\n",
      "Accuracy on actual images: 93.0\n",
      "Accuracy on adversarial images: 72.0\n"
     ]
    }
   ],
   "source": [
    "print ('.....Testing Logistic Regression on adversarial images generated from SVM...\\n')\n",
    "\n",
    "results = model_logisticReg.evaluate_adversarial_effect(\n",
    "                                            model_logisticReg, image_svm, \n",
    "                                            adver_svm, \n",
    "                                            test_dataset.test_labels[0:num_adversarials].reshape(-1))\n",
    "print ('Accuracy on actual images: {}'.format(results['acc_img']))\n",
    "print ('Accuracy on adversarial images: {}'.format(results['acc_adv']))"
   ]
  },
  {
   "cell_type": "code",
   "execution_count": 12,
   "metadata": {
    "colab": {
     "autoexec": {
      "startup": false,
      "wait_interval": 0
     },
     "base_uri": "https://localhost:8080/",
     "height": 206
    },
    "colab_type": "code",
    "executionInfo": {
     "elapsed": 59724,
     "status": "ok",
     "timestamp": 1528495599258,
     "user": {
      "displayName": "Pradheep krishna",
      "photoUrl": "//lh5.googleusercontent.com/-M377mmBxoNs/AAAAAAAAAAI/AAAAAAAAALw/wYOSE7fajrY/s50-c-k-no/photo.jpg",
      "userId": "110109036196497630582"
     },
     "user_tz": -120
    },
    "id": "fm6KaP995lKi",
    "outputId": "e47617e9-b7d3-454d-d471-72dbd9c647f8"
   },
   "outputs": [
    {
     "name": "stdout",
     "output_type": "stream",
     "text": [
      ".....Testing SVM on adversarial images generated from Logistic Regression...\n",
      "\n",
      "Accuracy on actual images: 95.0\n",
      "Accuracy on adversarial images: 6.0\n"
     ]
    }
   ],
   "source": [
    "print ('.....Testing SVM on adversarial images generated from Logistic Regression...\\n')\n",
    "\n",
    "results = model_SVM.evaluate_adversarial_effect(\n",
    "                                            model_SVM, image_logReg, \n",
    "                                            adver_logReg, \n",
    "                                            test_dataset.test_labels[0:num_adversarials].reshape(-1))\n",
    "print ('Accuracy on actual images: {}'.format(results['acc_img']))\n",
    "print ('Accuracy on adversarial images: {}'.format(results['acc_adv']))"
   ]
  },
  {
   "cell_type": "markdown",
   "metadata": {},
   "source": [
    "## Task 6: Generating 60000 adversarials and creating new training set:"
   ]
  },
  {
   "cell_type": "code",
   "execution_count": 13,
   "metadata": {
    "colab": {
     "autoexec": {
      "startup": false,
      "wait_interval": 0
     },
     "base_uri": "https://localhost:8080/",
     "height": 1497
    },
    "colab_type": "code",
    "executionInfo": {
     "elapsed": 2917,
     "status": "ok",
     "timestamp": 1528495766001,
     "user": {
      "displayName": "Pradheep krishna",
      "photoUrl": "//lh5.googleusercontent.com/-M377mmBxoNs/AAAAAAAAAAI/AAAAAAAAALw/wYOSE7fajrY/s50-c-k-no/photo.jpg",
      "userId": "110109036196497630582"
     },
     "user_tz": -120
    },
    "id": "-Lde9fbkm-16",
    "outputId": "18a6d246-dbdc-4d0d-ceff-ebd11e88e585"
   },
   "outputs": [
    {
     "name": "stdout",
     "output_type": "stream",
     "text": [
      "Shape of new training data: torch.Size([120000, 28, 28])\n",
      "Shape of new training labels: torch.Size([120000])\n"
     ]
    }
   ],
   "source": [
    "num_adversarials = 60000\n",
    "image_logReg, adver_logReg = model_logisticReg.generate_adversarial(\n",
    "                                                model_logisticReg,\n",
    "                                                train_dataset.train_data[0:num_adversarials],\n",
    "                                                train_dataset.train_labels[0:num_adversarials].reshape(-1))\n",
    "\n",
    "adver_logReg = torch.reshape(adver_logReg, (-1, 28, 28))\n",
    "normalized_train_data = train_dataset.train_data.type(torch.FloatTensor)/255.\n",
    "train_dataset.train_data = torch.cat((normalized_train_data, adver_logReg), dim=0) * 255\n",
    "train_dataset.train_labels = torch.cat((train_dataset.train_labels[0:num_adversarials],\n",
    "                                       train_dataset.train_labels[0:num_adversarials]), dim=0) \n",
    "print('Shape of new training data: {}'.format(\n",
    "                        train_dataset.train_data.shape))\n",
    "print('Shape of new training labels: {}'.format(\n",
    "                        train_dataset.train_labels.shape))"
   ]
  },
  {
   "cell_type": "markdown",
   "metadata": {
    "colab": {
     "autoexec": {
      "startup": false,
      "wait_interval": 0
     },
     "base_uri": "https://localhost:8080/",
     "height": 36
    },
    "colab_type": "code",
    "executionInfo": {
     "elapsed": 429,
     "status": "ok",
     "timestamp": 1528495829346,
     "user": {
      "displayName": "Pradheep krishna",
      "photoUrl": "//lh5.googleusercontent.com/-M377mmBxoNs/AAAAAAAAAAI/AAAAAAAAALw/wYOSE7fajrY/s50-c-k-no/photo.jpg",
      "userId": "110109036196497630582"
     },
     "user_tz": -120
    },
    "id": "7LJsAdcT_4wt",
    "outputId": "f45f0ef4-286b-4c92-87a6-8016a5661ccc"
   },
   "source": [
    "## Task 6: Retraining and evaluating the two models:"
   ]
  },
  {
   "cell_type": "code",
   "execution_count": 14,
   "metadata": {},
   "outputs": [
    {
     "name": "stdout",
     "output_type": "stream",
     "text": [
      "...........Logistic Regression..............\n",
      "\n",
      "Epoch: 1. Training Loss: 1.1657236814498901. Test Accuracy: 14.32\n",
      "Epoch: 2. Training Loss: 1.1167799234390259. Test Accuracy: 14.81\n",
      "Epoch: 3. Training Loss: 1.0219694375991821. Test Accuracy: 14.16\n",
      "Epoch: 4. Training Loss: 0.9923308491706848. Test Accuracy: 13.27\n",
      "Epoch: 5. Training Loss: 0.839326798915863. Test Accuracy: 12.61\n",
      "Epoch: 6. Training Loss: 0.8311876058578491. Test Accuracy: 11.69\n",
      "Epoch: 7. Training Loss: 0.8361297845840454. Test Accuracy: 11.16\n",
      "Epoch: 8. Training Loss: 0.7912066578865051. Test Accuracy: 10.77\n",
      "Epoch: 9. Training Loss: 0.8634053468704224. Test Accuracy: 10.64\n",
      "Epoch: 10. Training Loss: 0.7733713388442993. Test Accuracy: 10.37\n"
     ]
    }
   ],
   "source": [
    "print ('...........Logistic Regression..............\\n')\n",
    "\n",
    "model_logisticReg = LinearModel(input_dim, output_dim, algorithm_name='LogisticRegression')\n",
    "model_logisticReg.fit_and_evaluate(model_logisticReg, train_dataset, \n",
    "                                   test_dataset.test_data, test_dataset.test_labels)"
   ]
  },
  {
   "cell_type": "code",
   "execution_count": 15,
   "metadata": {
    "colab": {
     "autoexec": {
      "startup": false,
      "wait_interval": 0
     }
    },
    "colab_type": "code",
    "id": "ofr7gf-mnC2h"
   },
   "outputs": [
    {
     "name": "stdout",
     "output_type": "stream",
     "text": [
      "...........Support Vector Machine..............\n",
      "\n",
      "Epoch: 1. Training Loss: 3.5574769973754883. Test Accuracy: 14.84\n",
      "Epoch: 2. Training Loss: 2.800982713699341. Test Accuracy: 12.35\n",
      "Epoch: 3. Training Loss: 2.3519675731658936. Test Accuracy: 10.96\n",
      "Epoch: 4. Training Loss: 2.1461479663848877. Test Accuracy: 10.42\n",
      "Epoch: 5. Training Loss: 1.8605360984802246. Test Accuracy: 10.23\n",
      "Epoch: 6. Training Loss: 1.899336576461792. Test Accuracy: 10.2\n",
      "Epoch: 7. Training Loss: 1.9729762077331543. Test Accuracy: 10.21\n",
      "Epoch: 8. Training Loss: 1.819486379623413. Test Accuracy: 10.22\n",
      "Epoch: 9. Training Loss: 1.580538034439087. Test Accuracy: 10.15\n",
      "Epoch: 10. Training Loss: 1.8695851564407349. Test Accuracy: 10.15\n"
     ]
    }
   ],
   "source": [
    "print ('...........Support Vector Machine..............\\n')\n",
    "\n",
    "model_SVM = LinearModel(input_dim, output_dim, algorithm_name='SVM')\n",
    "model_SVM.fit_and_evaluate(model_SVM, train_dataset, \n",
    "                           test_dataset.test_data, test_dataset.test_labels)"
   ]
  },
  {
   "cell_type": "markdown",
   "metadata": {
    "colab": {
     "autoexec": {
      "startup": false,
      "wait_interval": 0
     },
     "base_uri": "https://localhost:8080/",
     "height": 206
    },
    "colab_type": "code",
    "executionInfo": {
     "elapsed": 116543,
     "status": "ok",
     "timestamp": 1528495950032,
     "user": {
      "displayName": "Pradheep krishna",
      "photoUrl": "//lh5.googleusercontent.com/-M377mmBxoNs/AAAAAAAAAAI/AAAAAAAAALw/wYOSE7fajrY/s50-c-k-no/photo.jpg",
      "userId": "110109036196497630582"
     },
     "user_tz": -120
    },
    "id": "IQiog1nspUU_",
    "outputId": "b8b2ecdd-774c-4e7e-d763-b22f6e43b2b1"
   },
   "source": [
    "## Task 6: 1) Both the models performed worse on the new dataset.  "
   ]
  },
  {
   "cell_type": "markdown",
   "metadata": {
    "colab": {
     "autoexec": {
      "startup": false,
      "wait_interval": 0
     },
     "base_uri": "https://localhost:8080/",
     "height": 206
    },
    "colab_type": "code",
    "executionInfo": {
     "elapsed": 119517,
     "status": "ok",
     "timestamp": 1528496069614,
     "user": {
      "displayName": "Pradheep krishna",
      "photoUrl": "//lh5.googleusercontent.com/-M377mmBxoNs/AAAAAAAAAAI/AAAAAAAAALw/wYOSE7fajrY/s50-c-k-no/photo.jpg",
      "userId": "110109036196497630582"
     },
     "user_tz": -120
    },
    "id": "5E-niKJk0A_v",
    "outputId": "8ca790a0-dfd6-4a48-848b-955d7b93023c"
   },
   "source": [
    "## Task 6: 2) Adversarial attack on the new trained model: From the accuracy we can see that the new model is more susceptable to the adverserial examples."
   ]
  },
  {
   "cell_type": "markdown",
   "metadata": {
    "colab": {
     "autoexec": {
      "startup": false,
      "wait_interval": 0
     },
     "base_uri": "https://localhost:8080/",
     "height": 36
    },
    "colab_type": "code",
    "executionInfo": {
     "elapsed": 451,
     "status": "ok",
     "timestamp": 1528496074341,
     "user": {
      "displayName": "Pradheep krishna",
      "photoUrl": "//lh5.googleusercontent.com/-M377mmBxoNs/AAAAAAAAAAI/AAAAAAAAALw/wYOSE7fajrY/s50-c-k-no/photo.jpg",
      "userId": "110109036196497630582"
     },
     "user_tz": -120
    },
    "id": "UzgJr5opHKn2",
    "outputId": "b0f8a69d-0810-4d02-f72f-cc30e87c718c"
   },
   "source": [
    "## Task 6: 3) Could regularization be used: Yes regularization can be used because the model has less accuracy because of over fitting. The model is trying to in corporate even the smallest of the noise. In order to avoid this, we need to perform regularization. \n"
   ]
  },
  {
   "cell_type": "code",
   "execution_count": null,
   "metadata": {
    "colab": {
     "autoexec": {
      "startup": false,
      "wait_interval": 0
     }
    },
    "colab_type": "code",
    "collapsed": true,
    "id": "hw_3QDiJHuHt"
   },
   "outputs": [],
   "source": []
  },
  {
   "cell_type": "code",
   "execution_count": null,
   "metadata": {
    "collapsed": true
   },
   "outputs": [],
   "source": []
  },
  {
   "cell_type": "code",
   "execution_count": null,
   "metadata": {
    "collapsed": true
   },
   "outputs": [],
   "source": []
  },
  {
   "cell_type": "code",
   "execution_count": null,
   "metadata": {
    "collapsed": true
   },
   "outputs": [],
   "source": []
  }
 ],
 "metadata": {
  "colab": {
   "collapsed_sections": [],
   "default_view": {},
   "name": "06_Excercise1_Pytorch_Ver3_Pradheep.ipynb",
   "provenance": [],
   "version": "0.3.2",
   "views": {}
  },
  "kernelspec": {
   "display_name": "Python 2",
   "language": "python",
   "name": "python2"
  },
  "language_info": {
   "codemirror_mode": {
    "name": "ipython",
    "version": 2
   },
   "file_extension": ".py",
   "mimetype": "text/x-python",
   "name": "python",
   "nbconvert_exporter": "python",
   "pygments_lexer": "ipython2",
   "version": "2.7.14"
  }
 },
 "nbformat": 4,
 "nbformat_minor": 1
}
